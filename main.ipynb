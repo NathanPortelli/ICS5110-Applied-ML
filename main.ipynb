{
 "cells": [
  {
   "cell_type": "markdown",
   "metadata": {},
   "source": [
    "# Importing libraries and classes"
   ]
  },
  {
   "cell_type": "code",
   "execution_count": 9,
   "metadata": {},
   "outputs": [],
   "source": [
    "import pandas as pd\n",
    "import numpy as np\n",
    "\n",
    "from sklearn.model_selection import train_test_split\n",
    "from sklearn.metrics import mean_absolute_error, mean_squared_error\n",
    "from sklearn.ensemble import RandomForestRegressor as SKLearnRandomForestRegressor\n",
    "\n",
    "from RandomForestRegressor import RandomForestRegressor\n",
    "from LinearRegression import LogisticRegression"
   ]
  },
  {
   "cell_type": "markdown",
   "metadata": {},
   "source": [
    "# Reading and splitting the data"
   ]
  },
  {
   "cell_type": "code",
   "execution_count": 10,
   "metadata": {},
   "outputs": [],
   "source": [
    "df = pd.read_csv('./NSO_Population_Sex_dataset/NSO_POPULATION_DATA_CLEANED.csv')\n",
    "\n",
    "feature_cols = ['District', 'Sex', 'Year', 'Population_Growth_Rate','Average_Population']\n",
    "X = pd.get_dummies(df[feature_cols], columns=['District', 'Sex'])\n",
    "y = df[\"Population\"]\n",
    "\n",
    "X_train, X_test, y_train, y_test = train_test_split(X, y, test_size=0.2)"
   ]
  },
  {
   "cell_type": "markdown",
   "metadata": {},
   "source": [
    "# SKLearn Decision Trees"
   ]
  },
  {
   "cell_type": "code",
   "execution_count": 11,
   "metadata": {},
   "outputs": [],
   "source": [
    "# To be added by Nathan Camilleri"
   ]
  },
  {
   "cell_type": "markdown",
   "metadata": {},
   "source": [
    "# Custom Decision Trees"
   ]
  },
  {
   "cell_type": "code",
   "execution_count": 12,
   "metadata": {},
   "outputs": [],
   "source": [
    "# To be added by Nathan Camilleri"
   ]
  },
  {
   "cell_type": "markdown",
   "metadata": {},
   "source": [
    "# Random Forest Regressor using SKLearn\n",
    "https://scikit-learn.org/stable/modules/generated/sklearn.ensemble.RandomForestRegressor.html"
   ]
  },
  {
   "cell_type": "code",
   "execution_count": 13,
   "metadata": {
    "scrolled": true
   },
   "outputs": [
    {
     "name": "stdout",
     "output_type": "stream",
     "text": [
      "SKLearn Random Forest Regressor Mean Absolute Error: 0.0062180408329399256\n",
      "SKLearn Random Forest Regressor Mean Squared Error: 0.00011546572724854736\n",
      "\n",
      "SKLearn Random Forest Predictions:\n",
      "       Actual  Predicted\n",
      "97   0.173876   0.175979\n",
      "39   0.609447   0.630738\n",
      "83   0.206309   0.211902\n",
      "143  0.364016   0.334013\n",
      "45   0.898457   0.861194\n",
      "57   0.687152   0.663145\n",
      "163  0.005896   0.005963\n",
      "124  0.203838   0.200466\n",
      "165  0.006809   0.006221\n",
      "71   0.241120   0.230947\n",
      "87   0.225957   0.227473\n",
      "167  0.007185   0.006390\n",
      "177  0.000175   0.001336\n",
      "121  0.194719   0.191163\n",
      "148  0.208270   0.210033\n",
      "138  0.273432   0.282884\n",
      "119  0.190878   0.189319\n",
      "24   0.330334   0.330390\n",
      "162  0.005385   0.005496\n",
      "90   0.241455   0.255110\n",
      "147  0.199997   0.208606\n",
      "151  0.227354   0.228045\n",
      "41   0.689139   0.667539\n",
      "21   0.330979   0.330262\n",
      "35   0.589261   0.589833\n",
      "171  0.011577   0.009963\n",
      "155  0.295094   0.288854\n",
      "112  0.182256   0.184448\n",
      "129  0.185560   0.191301\n",
      "33   0.584279   0.587139\n",
      "4    0.332201   0.330855\n",
      "38   0.590779   0.592324\n",
      "84   0.211856   0.219004\n",
      "136  0.240905   0.234606\n",
      "66   0.205128   0.203425\n",
      "170  0.009978   0.008129\n",
      "18   0.334591   0.333146\n",
      "36   0.591961   0.590486\n",
      "19   0.333571   0.332796\n"
     ]
    }
   ],
   "source": [
    "SKLearn_Random_Forest_Regressor = SKLearnRandomForestRegressor() # https://scikit-learn.org/stable/modules/generated/sklearn.ensemble.RandomForestRegressor.html\n",
    "\n",
    "SKLearn_Random_Forest_Regressor.fit(X_train, y_train)\n",
    "\n",
    "SKLearn_Random_Forest_Regressor_Prediction = SKLearn_Random_Forest_Regressor.predict(X_test)\n",
    "\n",
    "SKLearn_Random_Forest_Regressor_Prediction_MAE = mean_absolute_error(y_test, SKLearn_Random_Forest_Regressor_Prediction)\n",
    "SKLearn_Random_Forest_Regressor_Prediction_MSE = mean_squared_error(y_test, SKLearn_Random_Forest_Regressor_Prediction)\n",
    "\n",
    "print(f\"SKLearn Random Forest Regressor Mean Absolute Error: {SKLearn_Random_Forest_Regressor_Prediction_MAE}\")\n",
    "print(f\"SKLearn Random Forest Regressor Mean Squared Error: {SKLearn_Random_Forest_Regressor_Prediction_MSE}\")\n",
    "\n",
    "SKLearn_Random_Forest_Regressor_Results_DF = pd.DataFrame({'Actual': y_test, 'Predicted': SKLearn_Random_Forest_Regressor_Prediction})\n",
    "print(f\"\\nSKLearn Random Forest Predictions:\\n{SKLearn_Random_Forest_Regressor_Results_DF}\")\n"
   ]
  },
  {
   "cell_type": "markdown",
   "metadata": {},
   "source": [
    "# Custom Random Forest Regressor using SKLearn Decision Trees"
   ]
  },
  {
   "cell_type": "code",
   "execution_count": 15,
   "metadata": {
    "scrolled": true
   },
   "outputs": [
    {
     "name": "stdout",
     "output_type": "stream",
     "text": [
      "Custom Random Forest Regressor using SKLearn Decision Trees Mean Absolute Error: 0.006545388241443899\n",
      "Custom Random Forest Regressor using SKLearn Decision Trees Mean Squared Error: 0.0001378993860993491\n",
      "\n",
      "Custom Random Forest Regressor using SKLearn Decision Trees Predictions:\n",
      "       Actual  Predicted\n",
      "97   0.173876   0.176702\n",
      "39   0.609447   0.632010\n",
      "83   0.206309   0.208449\n",
      "143  0.364016   0.336221\n",
      "45   0.898457   0.855523\n",
      "57   0.687152   0.657861\n",
      "163  0.005896   0.005874\n",
      "124  0.203838   0.201315\n",
      "165  0.006809   0.006166\n",
      "71   0.241120   0.229905\n",
      "87   0.225957   0.227494\n",
      "167  0.007185   0.006489\n",
      "177  0.000175   0.001281\n",
      "121  0.194719   0.192120\n",
      "148  0.208270   0.212038\n",
      "138  0.273432   0.279165\n",
      "119  0.190878   0.188310\n",
      "24   0.330334   0.330341\n",
      "162  0.005385   0.005587\n",
      "90   0.241455   0.253697\n",
      "147  0.199997   0.201949\n",
      "151  0.227354   0.229205\n",
      "41   0.689139   0.661543\n",
      "21   0.330979   0.329946\n",
      "35   0.589261   0.590408\n",
      "171  0.011577   0.009695\n",
      "155  0.295094   0.285815\n",
      "112  0.182256   0.186770\n",
      "129  0.185560   0.190467\n",
      "33   0.584279   0.587657\n",
      "4    0.332201   0.330158\n",
      "38   0.590779   0.591168\n",
      "84   0.211856   0.217852\n",
      "136  0.240905   0.233955\n",
      "66   0.205128   0.200323\n",
      "170  0.009978   0.008106\n",
      "18   0.334591   0.333101\n",
      "36   0.591961   0.591085\n",
      "19   0.333571   0.332669\n"
     ]
    }
   ],
   "source": [
    "SKLearn_Decision_Trees_Random_Forest_Regressor = RandomForestRegressor(n_estimators=100, max_depth=None, custom=False)\n",
    "SKLearn_Decision_Trees_Random_Forest_Regressor.fit(X_train, y_train)\n",
    "\n",
    "SKLearn_Decision_Trees_Random_Forest_Regressor_Prediction = SKLearn_Decision_Trees_Random_Forest_Regressor.predict(X_test)\n",
    "\n",
    "SKLearn_Decision_Trees_Random_Forest_Regressor_MAE = mean_absolute_error(y_test, SKLearn_Decision_Trees_Random_Forest_Regressor_Prediction)\n",
    "SKLearn_Decision_Trees_Random_Forest_Regressor_MSE = mean_squared_error(y_test, SKLearn_Decision_Trees_Random_Forest_Regressor_Prediction)\n",
    "\n",
    "print(f\"Custom Random Forest Regressor using SKLearn Decision Trees Mean Absolute Error: {SKLearn_Decision_Trees_Random_Forest_Regressor_MAE}\")\n",
    "print(f\"Custom Random Forest Regressor using SKLearn Decision Trees Mean Squared Error: {SKLearn_Decision_Trees_Random_Forest_Regressor_MSE}\")\n",
    "\n",
    "SKLearn_Decision_Trees_Random_Forest_Regressor_Results_DF = pd.DataFrame({'Actual': y_test, 'Predicted': SKLearn_Decision_Trees_Random_Forest_Regressor_Prediction})\n",
    "print(f\"\\nCustom Random Forest Regressor using SKLearn Decision Trees Predictions:\\n{SKLearn_Decision_Trees_Random_Forest_Regressor_Results_DF}\")"
   ]
  },
  {
   "cell_type": "markdown",
   "metadata": {},
   "source": [
    "# Custom Random Forest Regressor"
   ]
  },
  {
   "cell_type": "code",
   "execution_count": 16,
   "metadata": {
    "scrolled": true
   },
   "outputs": [
    {
     "name": "stdout",
     "output_type": "stream",
     "text": [
      "Custom Random Forest Regressor Mean Absolute Error: 0.00867481824076553\n",
      "Custom Random Forest Regressor Mean Squared Error: 0.0002476557459798626\n",
      "\n",
      "Custom Random Forest Regressor Predictions:\n",
      "       Actual  Predicted\n",
      "97   0.173876   0.178141\n",
      "39   0.609447   0.637959\n",
      "83   0.206309   0.214267\n",
      "143  0.364016   0.312248\n",
      "45   0.898457   0.904814\n",
      "57   0.687152   0.734539\n",
      "163  0.005896   0.005905\n",
      "124  0.203838   0.204640\n",
      "165  0.006809   0.006560\n",
      "71   0.241120   0.244118\n",
      "87   0.225957   0.233147\n",
      "167  0.007185   0.006897\n",
      "177  0.000175   0.001543\n",
      "121  0.194719   0.192764\n",
      "148  0.208270   0.212804\n",
      "138  0.273432   0.286175\n",
      "119  0.190878   0.192340\n",
      "24   0.330334   0.330815\n",
      "162  0.005385   0.005690\n",
      "90   0.241455   0.264110\n",
      "147  0.199997   0.208238\n",
      "151  0.227354   0.233499\n",
      "41   0.689139   0.735160\n",
      "21   0.330979   0.329191\n",
      "35   0.589261   0.592964\n",
      "171  0.011577   0.011927\n",
      "155  0.295094   0.304569\n",
      "112  0.182256   0.184573\n",
      "129  0.185560   0.188395\n",
      "33   0.584279   0.589035\n",
      "4    0.332201   0.330887\n",
      "38   0.590779   0.613925\n",
      "84   0.211856   0.220167\n",
      "136  0.240905   0.237439\n",
      "66   0.205128   0.199829\n",
      "170  0.009978   0.009488\n",
      "18   0.334591   0.331942\n",
      "36   0.591961   0.594977\n",
      "19   0.333571   0.331859\n"
     ]
    }
   ],
   "source": [
    "Custom_Random_Forest_Regressor = RandomForestRegressor(n_estimators=100, max_depth=100)\n",
    "Custom_Random_Forest_Regressor.fit(X_train, y_train)\n",
    "\n",
    "Custom_Random_Forest_Regressor_Prediction = Custom_Random_Forest_Regressor.predict(X_test)\n",
    "\n",
    "Custom_Random_Forest_Regressor_MAE = mean_absolute_error(y_test, Custom_Random_Forest_Regressor_Prediction)\n",
    "Custom_Random_Forest_Regressor_MSE = mean_squared_error(y_test, Custom_Random_Forest_Regressor_Prediction)\n",
    "\n",
    "print(f\"Custom Random Forest Regressor Mean Absolute Error: {Custom_Random_Forest_Regressor_MAE}\")\n",
    "print(f\"Custom Random Forest Regressor Mean Squared Error: {Custom_Random_Forest_Regressor_MSE}\")\n",
    "\n",
    "Custom_Random_Forest_Regressor_Results_DF = pd.DataFrame({'Actual': y_test, 'Predicted': Custom_Random_Forest_Regressor_Prediction})\n",
    "print(f\"\\nCustom Random Forest Regressor Predictions:\\n{Custom_Random_Forest_Regressor_Results_DF}\")"
   ]
  },
  {
   "cell_type": "markdown",
   "metadata": {},
   "source": [
    "# Custom Linear Regression"
   ]
  },
  {
   "cell_type": "code",
   "execution_count": 17,
   "metadata": {},
   "outputs": [],
   "source": [
    "# Normalisation of data \n",
    "\n",
    "X_train_normalized = (X_train - np.mean(X_train, axis=0)) / np.std(X_train, axis=0)\n",
    "X_test_normalized = (X_test - np.mean(X_train, axis=0)) / np.std(X_train, axis=0)"
   ]
  },
  {
   "cell_type": "code",
   "execution_count": 18,
   "metadata": {
    "scrolled": true
   },
   "outputs": [
    {
     "name": "stdout",
     "output_type": "stream",
     "text": [
      "Custom Linear Regression Mean Absolute Error: 0.051118264798900755\n",
      "Custom Linear Regression Mean Squared Error: 0.0041117131127046\n",
      "\n",
      "Custom Linear Regression Predictions:\n",
      "       Actual  Predicted\n",
      "97   0.173876   0.181460\n",
      "39   0.609447   0.745078\n",
      "83   0.206309   0.227235\n",
      "143  0.364016   0.340073\n",
      "45   0.898457   0.784951\n",
      "57   0.687152   0.749665\n",
      "163  0.005896   0.066294\n",
      "124  0.203838   0.243121\n",
      "165  0.006809   0.072046\n",
      "71   0.241120   0.264435\n",
      "87   0.225957   0.255376\n",
      "167  0.007185   0.077600\n",
      "177  0.000175   0.037521\n",
      "121  0.194719   0.222734\n",
      "148  0.208270   0.260648\n",
      "138  0.273432   0.295971\n",
      "119  0.190878   0.209654\n",
      "24   0.330334   0.355642\n",
      "162  0.005385   0.064268\n",
      "90   0.241455   0.277795\n",
      "147  0.199997   0.253191\n",
      "151  0.227354   0.283881\n",
      "41   0.689139   0.758213\n",
      "21   0.330979   0.329989\n",
      "35   0.589261   0.715628\n",
      "171  0.011577   0.087223\n",
      "155  0.295094   0.314569\n",
      "112  0.182256   0.172789\n",
      "129  0.185560   0.230520\n",
      "33   0.584279   0.700012\n",
      "4    0.332201   0.332232\n",
      "38   0.590779   0.738579\n",
      "84   0.211856   0.233986\n",
      "136  0.240905   0.281319\n",
      "66   0.205128   0.228884\n",
      "170  0.009978   0.084760\n",
      "18   0.334591   0.304991\n",
      "36   0.591961   0.723428\n",
      "19   0.333571   0.313127\n"
     ]
    }
   ],
   "source": [
    "Custom_Linear_Regression = LogisticRegression(learning_rate=0.01, num_iterations=1000)\n",
    "Custom_Linear_Regression.fit(X_train_normalized, y_train)\n",
    "\n",
    "Custom_Linear_Regression_Prediction = Custom_Linear_Regression.predict(X_test_normalized)\n",
    "\n",
    "Custom_Linear_Regression_MAE = mean_absolute_error(y_test, Custom_Linear_Regression_Prediction)\n",
    "Custom_Linear_Regression_MSE = mean_squared_error(y_test, Custom_Linear_Regression_Prediction)\n",
    "\n",
    "print(f\"Custom Linear Regression Mean Absolute Error: {Custom_Linear_Regression_MAE}\")\n",
    "print(f\"Custom Linear Regression Mean Squared Error: {Custom_Linear_Regression_MSE}\")\n",
    "\n",
    "\n",
    "Custom_Linear_Regression_Results_DF = pd.DataFrame({'Actual': y_test, 'Predicted': Custom_Linear_Regression_Prediction})\n",
    "print(f\"\\nCustom Linear Regression Predictions:\\n{Custom_Linear_Regression_Results_DF}\")"
   ]
  },
  {
   "cell_type": "code",
   "execution_count": null,
   "metadata": {},
   "outputs": [],
   "source": []
  }
 ],
 "metadata": {
  "kernelspec": {
   "display_name": "Python 3 (ipykernel)",
   "language": "python",
   "name": "python3"
  },
  "language_info": {
   "codemirror_mode": {
    "name": "ipython",
    "version": 3
   },
   "file_extension": ".py",
   "mimetype": "text/x-python",
   "name": "python",
   "nbconvert_exporter": "python",
   "pygments_lexer": "ipython3",
   "version": "3.8.18"
  }
 },
 "nbformat": 4,
 "nbformat_minor": 2
}
