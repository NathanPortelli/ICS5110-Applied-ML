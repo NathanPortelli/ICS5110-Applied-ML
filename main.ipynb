{
 "cells": [
  {
   "cell_type": "markdown",
   "metadata": {},
   "source": [
    "# Importing libraries and classes"
   ]
  },
  {
   "cell_type": "code",
   "execution_count": 45,
   "metadata": {},
   "outputs": [],
   "source": [
    "import pandas as pd\n",
    "import numpy as np\n",
    "import matplotlib.pyplot as plt\n",
    "from tabulate import tabulate\n",
    "\n",
    "from sklearn.model_selection import train_test_split\n",
    "from sklearn.metrics import mean_absolute_error, mean_squared_error\n",
    "from sklearn.metrics import r2_score\n",
    "\n",
    "from sklearn.ensemble import RandomForestRegressor as SKLearnRandomForestRegressor\n",
    "from sklearn.tree import DecisionTreeRegressor as SKLearnDecisionTreeRegressor\n",
    "\n",
    "from DecisionTreeRegressor import DecisionTreeRegressor\n",
    "from RandomForestRegressor import RandomForestRegressor\n",
    "from LinearRegression import LogisticRegression"
   ]
  },
  {
   "cell_type": "markdown",
   "metadata": {},
   "source": [
    "# Reading and splitting the data"
   ]
  },
  {
   "cell_type": "code",
   "execution_count": 46,
   "metadata": {},
   "outputs": [],
   "source": [
    "df = pd.read_csv('./NSO_Population_Sex_dataset/NSO_POPULATION_DATA_CLEANED.csv')\n",
    "\n",
    "feature_cols = ['District', 'Sex', 'Year', 'Population_Growth_Rate','Average_Population']\n",
    "X = pd.get_dummies(df[feature_cols], columns=['District', 'Sex'])\n",
    "y = df[\"Population\"]\n",
    "\n",
    "X_train, X_test, y_train, y_test = train_test_split(X, y, test_size=0.2)"
   ]
  },
  {
   "cell_type": "markdown",
   "metadata": {},
   "source": [
    "# SKLearn Decision Trees"
   ]
  },
  {
   "cell_type": "code",
   "execution_count": 47,
   "metadata": {},
   "outputs": [
    {
     "name": "stdout",
     "output_type": "stream",
     "text": [
      "SKLearn Decision Tree Regressor Mean Absolute Error: 0.014600764500040652\n",
      "SKLearn Decision Tree Regressor Mean Squared Error: 0.000546366741966023\n",
      "SKLearn Decision Tree Regressor R²: 0.9867108691772756\n",
      "\n",
      "SKLearn Decision Tree Predictions:\n",
      "       Actual  Predicted\n",
      "164  0.006728   0.006348\n",
      "158  0.400089   0.343890\n",
      "91   0.244705   0.253271\n",
      "27   0.336552   0.337742\n",
      "162  0.005385   0.006348\n",
      "99   0.178442   0.194805\n",
      "148  0.208270   0.222876\n",
      "41   0.689139   0.671232\n",
      "94   0.267079   0.343890\n",
      "119  0.190878   0.188824\n",
      "14   0.379004   0.357019\n",
      "140  0.318650   0.290216\n",
      "122  0.198238   0.205902\n",
      "174  0.022549   0.023330\n",
      "151  0.227354   0.237966\n",
      "187  0.010368   0.009068\n",
      "20   0.333208   0.330503\n",
      "62   0.890520   0.862893\n",
      "126  0.211856   0.205902\n",
      "157  0.361599   0.290216\n",
      "156  0.325687   0.290216\n",
      "108  0.200669   0.205902\n",
      "36   0.591961   0.587397\n",
      "173  0.018144   0.023330\n",
      "85   0.215912   0.216932\n",
      "79   0.325540   0.343890\n",
      "137  0.254603   0.290216\n",
      "166  0.007266   0.006348\n",
      "116  0.186017   0.188824\n",
      "172  0.014773   0.023330\n",
      "182  0.003895   0.002307\n",
      "135  0.231933   0.237966\n",
      "125  0.207612   0.205902\n",
      "83   0.206309   0.194805\n",
      "74   0.267133   0.253271\n",
      "57   0.687152   0.671232\n",
      "6    0.326614   0.328787\n",
      "49   0.604276   0.612996\n",
      "105  0.189186   0.205902\n"
     ]
    }
   ],
   "source": [
    "SKLearn_Decision_Tree_Regressor = SKLearnDecisionTreeRegressor(max_depth=100, min_samples_split=2, min_samples_leaf=5)\n",
    "\n",
    "SKLearn_Decision_Tree_Regressor.fit(X_train, y_train)\n",
    "\n",
    "SKLearn_Decision_Tree_Regressor_Prediction = SKLearn_Decision_Tree_Regressor.predict(X_test)\n",
    "\n",
    "SKLearn_Decision_Tree_Regressor_Prediction_MAE = mean_absolute_error(y_test, SKLearn_Decision_Tree_Regressor_Prediction)\n",
    "SKLearn_Decision_Tree_Regressor_Prediction_MSE = mean_squared_error(y_test, SKLearn_Decision_Tree_Regressor_Prediction)\n",
    "SKLearn_Decision_Tree_Regressor_Prediction_R2 = r2_score(y_test, SKLearn_Decision_Tree_Regressor_Prediction)\n",
    "\n",
    "print(f\"SKLearn Decision Tree Regressor Mean Absolute Error: {SKLearn_Decision_Tree_Regressor_Prediction_MAE}\")\n",
    "print(f\"SKLearn Decision Tree Regressor Mean Squared Error: {SKLearn_Decision_Tree_Regressor_Prediction_MSE}\")\n",
    "print(f\"SKLearn Decision Tree Regressor R\\u00b2: {SKLearn_Decision_Tree_Regressor_Prediction_R2}\")\n",
    "\n",
    "SKLearn_Decision_Tree_Regressor_Results_DF = pd.DataFrame({'Actual': y_test, 'Predicted': SKLearn_Decision_Tree_Regressor_Prediction})\n",
    "print(f\"\\nSKLearn Decision Tree Predictions:\\n{SKLearn_Decision_Tree_Regressor_Results_DF}\")"
   ]
  },
  {
   "cell_type": "markdown",
   "metadata": {},
   "source": [
    "# Custom Decision Trees"
   ]
  },
  {
   "cell_type": "code",
   "execution_count": 48,
   "metadata": {},
   "outputs": [
    {
     "name": "stdout",
     "output_type": "stream",
     "text": [
      "Custom Decision Tree Regressor Mean Absolute Error: 0.015029378655975143\n",
      "Custom Decision Tree Regressor Mean Squared Error: 0.000682269995670212\n",
      "Custom Decision Tree Regressor R²: 0.9834053310121776\n",
      "\n",
      "Custom Decision Tree Predictions:\n",
      "       Actual  Predicted\n",
      "164  0.006728   0.006809\n",
      "158  0.400089   0.365064\n",
      "91   0.244705   0.250547\n",
      "27   0.336552   0.336176\n",
      "162  0.005385   0.005896\n",
      "99   0.178442   0.213333\n",
      "148  0.208270   0.209815\n",
      "41   0.689139   0.731819\n",
      "94   0.267079   0.324062\n",
      "119  0.190878   0.225957\n",
      "14   0.379004   0.378399\n",
      "140  0.318650   0.285545\n",
      "122  0.198238   0.192718\n",
      "174  0.022549   0.024187\n",
      "151  0.227354   0.240905\n",
      "187  0.010368   0.011577\n",
      "20   0.333208   0.333571\n",
      "62   0.890520   0.984932\n",
      "126  0.211856   0.220062\n",
      "157  0.361599   0.342824\n",
      "156  0.325687   0.285545\n",
      "108  0.200669   0.196586\n",
      "36   0.591961   0.589302\n",
      "173  0.018144   0.019675\n",
      "85   0.215912   0.225675\n",
      "79   0.325540   0.268852\n",
      "137  0.254603   0.254724\n",
      "166  0.007266   0.007185\n",
      "116  0.186017   0.186688\n",
      "172  0.014773   0.014115\n",
      "182  0.003895   0.004230\n",
      "135  0.231933   0.240905\n",
      "125  0.207612   0.210285\n",
      "83   0.206309   0.213333\n",
      "74   0.267133   0.258901\n",
      "57   0.687152   0.731819\n",
      "6    0.326614   0.327017\n",
      "49   0.604276   0.605794\n",
      "105  0.189186   0.194719\n"
     ]
    }
   ],
   "source": [
    "Custom_Decision_Tree_Regressor = DecisionTreeRegressor(max_depth=100, min_samples_split=2)\n",
    "\n",
    "Custom_Decision_Tree_Regressor.fit(X_train.values, y_train.values)\n",
    "\n",
    "Custom_Decision_Tree_Regressor_Prediction = Custom_Decision_Tree_Regressor.predict(X_test.values)\n",
    "\n",
    "Custom_Decision_Tree_Regressor_Prediction_MAE = mean_absolute_error(y_test, Custom_Decision_Tree_Regressor_Prediction)\n",
    "Custom_Decision_Tree_Regressor_Prediction_MSE = mean_squared_error(y_test, Custom_Decision_Tree_Regressor_Prediction)\n",
    "Custom_Decision_Tree_Regressor_Prediction_R2 = r2_score(y_test, Custom_Decision_Tree_Regressor_Prediction)\n",
    "\n",
    "print(f\"Custom Decision Tree Regressor Mean Absolute Error: {Custom_Decision_Tree_Regressor_Prediction_MAE}\")\n",
    "print(f\"Custom Decision Tree Regressor Mean Squared Error: {Custom_Decision_Tree_Regressor_Prediction_MSE}\")\n",
    "print(f\"Custom Decision Tree Regressor R\\u00b2: {Custom_Decision_Tree_Regressor_Prediction_R2}\")\n",
    "\n",
    "Custom_Decision_Tree_Regressor_Results_DF = pd.DataFrame({'Actual': y_test, 'Predicted': Custom_Decision_Tree_Regressor_Prediction})\n",
    "print(f\"\\nCustom Decision Tree Predictions:\\n{Custom_Decision_Tree_Regressor_Results_DF}\")"
   ]
  },
  {
   "cell_type": "markdown",
   "metadata": {},
   "source": [
    "# Random Forest Regressor using SKLearn\n",
    "https://scikit-learn.org/stable/modules/generated/sklearn.ensemble.RandomForestRegressor.html"
   ]
  },
  {
   "cell_type": "code",
   "execution_count": 49,
   "metadata": {},
   "outputs": [
    {
     "name": "stdout",
     "output_type": "stream",
     "text": [
      "SKLearn Random Forest Regressor Mean Absolute Error: 0.008287188027186114\n",
      "SKLearn Random Forest Regressor Mean Squared Error: 0.00020728938631376674\n",
      "SKLearn Random Forest Regressor R²: 0.9867108691772756\n",
      "\n",
      "SKLearn Random Forest Predictions:\n",
      "       Actual  Predicted\n",
      "164  0.006728   0.006895\n",
      "158  0.400089   0.348287\n",
      "91   0.244705   0.232782\n",
      "27   0.336552   0.335435\n",
      "162  0.005385   0.005505\n",
      "99   0.178442   0.185118\n",
      "148  0.208270   0.212901\n",
      "41   0.689139   0.665841\n",
      "94   0.267079   0.276462\n",
      "119  0.190878   0.187907\n",
      "14   0.379004   0.356905\n",
      "140  0.318650   0.294866\n",
      "122  0.198238   0.196563\n",
      "174  0.022549   0.023813\n",
      "151  0.227354   0.230455\n",
      "187  0.010368   0.010473\n",
      "20   0.333208   0.331983\n",
      "62   0.890520   0.899268\n",
      "126  0.211856   0.216579\n",
      "157  0.361599   0.332977\n",
      "156  0.325687   0.297566\n",
      "108  0.200669   0.206169\n",
      "36   0.591961   0.592517\n",
      "173  0.018144   0.017986\n",
      "85   0.215912   0.218475\n",
      "79   0.325540   0.291247\n",
      "137  0.254603   0.256430\n",
      "166  0.007266   0.006639\n",
      "116  0.186017   0.185501\n",
      "172  0.014773   0.012443\n",
      "182  0.003895   0.004359\n",
      "135  0.231933   0.229947\n",
      "125  0.207612   0.208121\n",
      "83   0.206309   0.207058\n",
      "74   0.267133   0.256818\n",
      "57   0.687152   0.666407\n",
      "6    0.326614   0.327929\n",
      "49   0.604276   0.604817\n",
      "105  0.189186   0.191839\n"
     ]
    }
   ],
   "source": [
    "SKLearn_Random_Forest_Regressor = SKLearnRandomForestRegressor() # https://scikit-learn.org/stable/modules/generated/sklearn.ensemble.RandomForestRegressor.html\n",
    "\n",
    "SKLearn_Random_Forest_Regressor.fit(X_train, y_train)\n",
    "\n",
    "SKLearn_Random_Forest_Regressor_Prediction = SKLearn_Random_Forest_Regressor.predict(X_test)\n",
    "\n",
    "SKLearn_Random_Forest_Regressor_Prediction_MAE = mean_absolute_error(y_test, SKLearn_Random_Forest_Regressor_Prediction)\n",
    "SKLearn_Random_Forest_Regressor_Prediction_MSE = mean_squared_error(y_test, SKLearn_Random_Forest_Regressor_Prediction)\n",
    "SKLearn_Random_Forest_Regressor_Prediction_R2 = r2_score(y_test, SKLearn_Random_Forest_Regressor_Prediction)\n",
    "\n",
    "print(f\"SKLearn Random Forest Regressor Mean Absolute Error: {SKLearn_Random_Forest_Regressor_Prediction_MAE}\")\n",
    "print(f\"SKLearn Random Forest Regressor Mean Squared Error: {SKLearn_Random_Forest_Regressor_Prediction_MSE}\")\n",
    "print(f\"SKLearn Random Forest Regressor R\\u00b2: {SKLearn_Decision_Tree_Regressor_Prediction_R2}\")\n",
    "\n",
    "SKLearn_Random_Forest_Regressor_Results_DF = pd.DataFrame({'Actual': y_test, 'Predicted': SKLearn_Random_Forest_Regressor_Prediction})\n",
    "print(f\"\\nSKLearn Random Forest Predictions:\\n{SKLearn_Random_Forest_Regressor_Results_DF}\")\n"
   ]
  },
  {
   "cell_type": "markdown",
   "metadata": {},
   "source": [
    "# Custom Random Forest Regressor using SKLearn Decision Trees"
   ]
  },
  {
   "cell_type": "code",
   "execution_count": 50,
   "metadata": {},
   "outputs": [
    {
     "name": "stdout",
     "output_type": "stream",
     "text": [
      "Custom Random Forest Regressor using SKLearn Decision Trees Mean Absolute Error: 0.009311682350320042\n",
      "Custom Random Forest Regressor using SKLearn Decision Trees Mean Squared Error: 0.00027251900251000613\n",
      "Custom Random Forest Regressor using SKLearn Decision Trees R²: 0.9933715938437208\n",
      "\n",
      "Custom Random Forest Regressor using SKLearn Decision Trees Predictions:\n",
      "       Actual  Predicted\n",
      "164  0.006728   0.006468\n",
      "158  0.400089   0.342696\n",
      "91   0.244705   0.236278\n",
      "27   0.336552   0.336095\n",
      "162  0.005385   0.005732\n",
      "99   0.178442   0.189577\n",
      "148  0.208270   0.212847\n",
      "41   0.689139   0.655628\n",
      "94   0.267079   0.271550\n",
      "119  0.190878   0.187839\n",
      "14   0.379004   0.358253\n",
      "140  0.318650   0.297852\n",
      "122  0.198238   0.197664\n",
      "174  0.022549   0.024742\n",
      "151  0.227354   0.230226\n",
      "187  0.010368   0.010467\n",
      "20   0.333208   0.332219\n",
      "62   0.890520   0.880650\n",
      "126  0.211856   0.219738\n",
      "157  0.361599   0.326694\n",
      "156  0.325687   0.295470\n",
      "108  0.200669   0.207118\n",
      "36   0.591961   0.594022\n",
      "173  0.018144   0.019179\n",
      "85   0.215912   0.217931\n",
      "79   0.325540   0.283848\n",
      "137  0.254603   0.256882\n",
      "166  0.007266   0.006480\n",
      "116  0.186017   0.185657\n",
      "172  0.014773   0.013363\n",
      "182  0.003895   0.004217\n",
      "135  0.231933   0.231416\n",
      "125  0.207612   0.210017\n",
      "83   0.206309   0.207523\n",
      "74   0.267133   0.256465\n",
      "57   0.687152   0.657840\n",
      "6    0.326614   0.327838\n",
      "49   0.604276   0.604691\n",
      "105  0.189186   0.193407\n"
     ]
    }
   ],
   "source": [
    "SKLearn_Decision_Trees_Random_Forest_Regressor = RandomForestRegressor(n_estimators=100, max_depth=None, custom=False)\n",
    "SKLearn_Decision_Trees_Random_Forest_Regressor.fit(X_train, y_train)\n",
    "\n",
    "SKLearn_Decision_Trees_Random_Forest_Regressor_Prediction = SKLearn_Decision_Trees_Random_Forest_Regressor.predict(X_test)\n",
    "\n",
    "SKLearn_Decision_Trees_Random_Forest_Regressor_MAE = mean_absolute_error(y_test, SKLearn_Decision_Trees_Random_Forest_Regressor_Prediction)\n",
    "SKLearn_Decision_Trees_Random_Forest_Regressor_MSE = mean_squared_error(y_test, SKLearn_Decision_Trees_Random_Forest_Regressor_Prediction)\n",
    "SKLearn_Decision_Trees_Random_Forest_Regressor_R2 = r2_score(y_test, SKLearn_Decision_Trees_Random_Forest_Regressor_Prediction)\n",
    "\n",
    "print(f\"Custom Random Forest Regressor using SKLearn Decision Trees Mean Absolute Error: {SKLearn_Decision_Trees_Random_Forest_Regressor_MAE}\")\n",
    "print(f\"Custom Random Forest Regressor using SKLearn Decision Trees Mean Squared Error: {SKLearn_Decision_Trees_Random_Forest_Regressor_MSE}\")\n",
    "print(f\"Custom Random Forest Regressor using SKLearn Decision Trees R\\u00b2: {SKLearn_Decision_Trees_Random_Forest_Regressor_R2}\")\n",
    "\n",
    "SKLearn_Decision_Trees_Random_Forest_Regressor_Results_DF = pd.DataFrame({'Actual': y_test, 'Predicted': SKLearn_Decision_Trees_Random_Forest_Regressor_Prediction})\n",
    "print(f\"\\nCustom Random Forest Regressor using SKLearn Decision Trees Predictions:\\n{SKLearn_Decision_Trees_Random_Forest_Regressor_Results_DF}\")"
   ]
  },
  {
   "cell_type": "markdown",
   "metadata": {},
   "source": [
    "# Custom Random Forest Regressor"
   ]
  },
  {
   "cell_type": "code",
   "execution_count": 51,
   "metadata": {
    "scrolled": false
   },
   "outputs": [
    {
     "name": "stdout",
     "output_type": "stream",
     "text": [
      "Custom Random Forest Regressor Mean Absolute Error: 0.011920891989921415\n",
      "Custom Random Forest Regressor Mean Squared Error: 0.0004378316906079441\n",
      "Custom Random Forest Regressor R²: 0.9893507379422714\n",
      "\n",
      "Custom Random Forest Regressor Predictions:\n",
      "       Actual  Predicted\n",
      "164  0.006728   0.006278\n",
      "158  0.400089   0.349445\n",
      "91   0.244705   0.239597\n",
      "27   0.336552   0.339192\n",
      "162  0.005385   0.005677\n",
      "99   0.178442   0.194939\n",
      "148  0.208270   0.214510\n",
      "41   0.689139   0.740311\n",
      "94   0.267079   0.284160\n",
      "119  0.190878   0.201767\n",
      "14   0.379004   0.363533\n",
      "140  0.318650   0.319729\n",
      "122  0.198238   0.195683\n",
      "174  0.022549   0.026484\n",
      "151  0.227354   0.233929\n",
      "187  0.010368   0.012050\n",
      "20   0.333208   0.331780\n",
      "62   0.890520   0.959000\n",
      "126  0.211856   0.222275\n",
      "157  0.361599   0.331961\n",
      "156  0.325687   0.319521\n",
      "108  0.200669   0.212664\n",
      "36   0.591961   0.595806\n",
      "173  0.018144   0.022547\n",
      "85   0.215912   0.217919\n",
      "79   0.325540   0.278967\n",
      "137  0.254603   0.259091\n",
      "166  0.007266   0.006715\n",
      "116  0.186017   0.187432\n",
      "172  0.014773   0.016352\n",
      "182  0.003895   0.004584\n",
      "135  0.231933   0.232721\n",
      "125  0.207612   0.215152\n",
      "83   0.206309   0.209177\n",
      "74   0.267133   0.255291\n",
      "57   0.687152   0.737253\n",
      "6    0.326614   0.327586\n",
      "49   0.604276   0.603767\n",
      "105  0.189186   0.193497\n"
     ]
    }
   ],
   "source": [
    "Custom_Random_Forest_Regressor = RandomForestRegressor(n_estimators=100, max_depth=100)\n",
    "Custom_Random_Forest_Regressor.fit(X_train, y_train)\n",
    "\n",
    "Custom_Random_Forest_Regressor_Prediction = Custom_Random_Forest_Regressor.predict(X_test)\n",
    "\n",
    "Custom_Random_Forest_Regressor_MAE = mean_absolute_error(y_test, Custom_Random_Forest_Regressor_Prediction)\n",
    "Custom_Random_Forest_Regressor_MSE = mean_squared_error(y_test, Custom_Random_Forest_Regressor_Prediction)\n",
    "Custom_Random_Forest_Regressor_R2 = r2_score(y_test, Custom_Random_Forest_Regressor_Prediction)\n",
    "\n",
    "print(f\"Custom Random Forest Regressor Mean Absolute Error: {Custom_Random_Forest_Regressor_MAE}\")\n",
    "print(f\"Custom Random Forest Regressor Mean Squared Error: {Custom_Random_Forest_Regressor_MSE}\")\n",
    "print(f\"Custom Random Forest Regressor R\\u00b2: {Custom_Random_Forest_Regressor_R2}\")\n",
    "\n",
    "Custom_Random_Forest_Regressor_Results_DF = pd.DataFrame({'Actual': y_test, 'Predicted': Custom_Random_Forest_Regressor_Prediction})\n",
    "print(f\"\\nCustom Random Forest Regressor Predictions:\\n{Custom_Random_Forest_Regressor_Results_DF}\")"
   ]
  },
  {
   "cell_type": "markdown",
   "metadata": {},
   "source": [
    "# Custom Linear Regression"
   ]
  },
  {
   "cell_type": "code",
   "execution_count": 52,
   "metadata": {},
   "outputs": [],
   "source": [
    "# Normalisation of data \n",
    "\n",
    "X_train_normalized = (X_train - np.mean(X_train, axis=0)) / np.std(X_train, axis=0)\n",
    "X_test_normalized = (X_test - np.mean(X_train, axis=0)) / np.std(X_train, axis=0)"
   ]
  },
  {
   "cell_type": "code",
   "execution_count": 53,
   "metadata": {},
   "outputs": [
    {
     "name": "stdout",
     "output_type": "stream",
     "text": [
      "Custom Linear Regression Mean Absolute Error: 0.04744189455052452\n",
      "Custom Linear Regression Mean Squared Error: 0.0029870706549821272\n",
      "Custom Linear Regression R²: 0.9273462865474941\n",
      "\n",
      "Custom Linear Regression Predictions:\n",
      "       Actual  Predicted\n",
      "164  0.006728   0.070790\n",
      "158  0.400089   0.328932\n",
      "91   0.244705   0.287958\n",
      "27   0.336552   0.389155\n",
      "162  0.005385   0.066506\n",
      "99   0.178442   0.193413\n",
      "148  0.208270   0.251164\n",
      "41   0.689139   0.744664\n",
      "94   0.267079   0.311885\n",
      "119  0.190878   0.214472\n",
      "14   0.379004   0.421807\n",
      "140  0.318650   0.307038\n",
      "122  0.198238   0.234632\n",
      "174  0.022549   0.099749\n",
      "151  0.227354   0.274056\n",
      "187  0.010368   0.091646\n",
      "20   0.333208   0.327148\n",
      "62   0.890520   0.775687\n",
      "126  0.211856   0.263576\n",
      "157  0.361599   0.320317\n",
      "156  0.325687   0.312116\n",
      "108  0.200669   0.253621\n",
      "36   0.591961   0.707945\n",
      "173  0.018144   0.096486\n",
      "85   0.215912   0.242533\n",
      "79   0.325540   0.326674\n",
      "137  0.254603   0.283700\n",
      "166  0.007266   0.076755\n",
      "116  0.186017   0.195575\n",
      "172  0.014773   0.092625\n",
      "182  0.003895   0.076510\n",
      "135  0.231933   0.268879\n",
      "125  0.207612   0.256163\n",
      "83   0.206309   0.228435\n",
      "74   0.267133   0.284833\n",
      "57   0.687152   0.740268\n",
      "6    0.326614   0.350366\n",
      "49   0.604276   0.677989\n",
      "105  0.189186   0.232434\n"
     ]
    }
   ],
   "source": [
    "Custom_Linear_Regression = LogisticRegression(learning_rate=0.01, num_iterations=1000)\n",
    "Custom_Linear_Regression.fit(X_train_normalized, y_train)\n",
    "\n",
    "Custom_Linear_Regression_Prediction = Custom_Linear_Regression.predict(X_test_normalized)\n",
    "\n",
    "Custom_Linear_Regression_MAE = mean_absolute_error(y_test, Custom_Linear_Regression_Prediction)\n",
    "Custom_Linear_Regression_MSE = mean_squared_error(y_test, Custom_Linear_Regression_Prediction)\n",
    "Custom_Linear_Regression_R2 = r2_score(y_test, Custom_Linear_Regression_Prediction)\n",
    "\n",
    "print(f\"Custom Linear Regression Mean Absolute Error: {Custom_Linear_Regression_MAE}\")\n",
    "print(f\"Custom Linear Regression Mean Squared Error: {Custom_Linear_Regression_MSE}\")\n",
    "print(f\"Custom Linear Regression R\\u00b2: {Custom_Linear_Regression_R2}\")\n",
    "\n",
    "\n",
    "Custom_Linear_Regression_Results_DF = pd.DataFrame({'Actual': y_test, 'Predicted': Custom_Linear_Regression_Prediction})\n",
    "print(f\"\\nCustom Linear Regression Predictions:\\n{Custom_Linear_Regression_Results_DF}\")"
   ]
  },
  {
   "cell_type": "code",
   "execution_count": 54,
   "metadata": {},
   "outputs": [
    {
     "data": {
      "image/png": "[encoded data removed]",
      "text/plain": [
       "<Figure size 640x480 with 1 Axes>"
      ]
     },
     "metadata": {},
     "output_type": "display_data"
    }
   ],
   "source": [
    "plt.scatter(y_test, Custom_Decision_Tree_Regressor_Prediction)\n",
    "plt.scatter(y_test, Custom_Random_Forest_Regressor_Prediction)\n",
    "plt.scatter(y_test, Custom_Linear_Regression_Prediction)\n",
    "plt.xlabel('Actual Values')\n",
    "plt.ylabel('Predicted Values')\n",
    "plt.title('Actual vs Predicted Values')\n",
    "plt.legend(['Decision Tree', 'Random Forest', 'Linear Regression'])\n",
    "plt.show()"
   ]
  }
 ],
 "metadata": {
  "kernelspec": {
   "display_name": "Python 3 (ipykernel)",
   "language": "python",
   "name": "python3"
  },
  "language_info": {
   "codemirror_mode": {
    "name": "ipython",
    "version": 3
   },
   "file_extension": ".py",
   "mimetype": "text/x-python",
   "name": "python",
   "nbconvert_exporter": "python",
   "pygments_lexer": "ipython3",
   "version": "3.12.0"
  }
 },
 "nbformat": 4,
 "nbformat_minor": 2
}
