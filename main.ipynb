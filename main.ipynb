{
 "cells": [
  {
   "cell_type": "markdown",
   "metadata": {},
   "source": [
    "# Importing libraries and classes"
   ]
  },
  {
   "cell_type": "code",
   "execution_count": 1,
   "metadata": {},
   "outputs": [],
   "source": [
    "import pandas as pd\n",
    "from sklearn.model_selection import train_test_split\n",
    "from sklearn.metrics import mean_absolute_error, mean_squared_error\n",
    "from sklearn.ensemble import RandomForestRegressor as SKLearnRandomForestRegressor\n",
    "from sklearn.tree import DecisionTreeRegressor as SKLearnDecisionTreeRegressor\n",
    "from RandomForestRegressor import RandomForestRegressor\n",
    "from DecisionTreeRegressor import DecisionTreeRegressor\n",
    "\n",
    "# Add your required imports here"
   ]
  },
  {
   "cell_type": "markdown",
   "metadata": {},
   "source": [
    "# Reading and splitting the data"
   ]
  },
  {
   "cell_type": "code",
   "execution_count": 2,
   "metadata": {},
   "outputs": [],
   "source": [
    "df = pd.read_csv('./NSO_Population_Sex_dataset/NSO_POPULATION_DATA_CLEANED.csv')\n",
    "\n",
    "feature_cols = ['District', 'Sex', 'Year', 'Population_Growth_Rate','Average_Population']\n",
    "X = pd.get_dummies(df[feature_cols], columns=['District', 'Sex'])\n",
    "y = df[\"Population\"]\n",
    "\n",
    "X_train, X_test, y_train, y_test = train_test_split(X, y, test_size=0.2)"
   ]
  },
  {
   "cell_type": "markdown",
   "metadata": {},
   "source": [
    "# SKLearn Decision Trees"
   ]
  },
  {
   "cell_type": "code",
   "execution_count": 3,
   "metadata": {},
   "outputs": [
    {
     "name": "stdout",
     "output_type": "stream",
     "text": [
      "SKLearn Decision Tree Regressor Mean Absolute Error: 0.019414911211287852\n",
      "SKLearn Decision Tree Regressor Mean Squared Error: 0.001960325834723594\n",
      "\n",
      "SKLearn Decision Tree Predictions:\n",
      "       Actual  Predicted\n",
      "154  0.274949   0.293029\n",
      "136  0.240905   0.223126\n",
      "137  0.254603   0.293029\n",
      "173  0.018144   0.020760\n",
      "64   0.192490   0.202359\n",
      "18   0.334591   0.336222\n",
      "51   0.608144   0.612045\n",
      "170  0.009978   0.009146\n",
      "54   0.614832   0.612045\n",
      "76   0.285545   0.258887\n",
      "15   0.378399   0.354900\n",
      "40   0.642014   0.674058\n",
      "63   0.894065   0.862499\n",
      "82   0.201327   0.202359\n",
      "143  0.364016   0.197714\n",
      "114  0.182445   0.176871\n",
      "31   0.351231   0.354900\n",
      "159  0.397456   0.197714\n",
      "147  0.199997   0.195295\n",
      "150  0.221378   0.223126\n",
      "58   0.720149   0.674058\n",
      "180  0.003344   0.002375\n",
      "191  0.029411   0.020760\n",
      "133  0.216946   0.223126\n",
      "126  0.211856   0.199165\n",
      "90   0.241455   0.258887\n",
      "112  0.182256   0.176871\n",
      "10   0.333920   0.333571\n",
      "94   0.267079   0.258887\n",
      "131  0.201193   0.195295\n",
      "29   0.345026   0.354900\n",
      "161  0.005076   0.006549\n",
      "33   0.584279   0.588677\n",
      "151  0.227354   0.223126\n",
      "74   0.267133   0.258887\n",
      "124  0.203838   0.197714\n",
      "22   0.330133   0.328051\n",
      "155  0.295094   0.293029\n",
      "127  0.212111   0.197714\n"
     ]
    }
   ],
   "source": [
    "SKLearn_Decision_Tree_Regressor = SKLearnDecisionTreeRegressor(max_depth=100, min_samples_split=2, min_samples_leaf=5)\n",
    "\n",
    "SKLearn_Decision_Tree_Regressor.fit(X_train, y_train)\n",
    "\n",
    "SKLearn_Decision_Tree_Regressor_Prediction = SKLearn_Decision_Tree_Regressor.predict(X_test)\n",
    "\n",
    "SKLearn_Decision_Tree_Regressor_Prediction_MAE = mean_absolute_error(y_test, SKLearn_Decision_Tree_Regressor_Prediction)\n",
    "SKLearn_Decision_Tree_Regressor_Prediction_MSE = mean_squared_error(y_test, SKLearn_Decision_Tree_Regressor_Prediction)\n",
    "\n",
    "print(f\"SKLearn Decision Tree Regressor Mean Absolute Error: {SKLearn_Decision_Tree_Regressor_Prediction_MAE}\")\n",
    "print(f\"SKLearn Decision Tree Regressor Mean Squared Error: {SKLearn_Decision_Tree_Regressor_Prediction_MSE}\")\n",
    "\n",
    "SKLearn_Decision_Tree_Regressor_Results_DF = pd.DataFrame({'Actual': y_test, 'Predicted': SKLearn_Decision_Tree_Regressor_Prediction})\n",
    "print(f\"\\nSKLearn Decision Tree Predictions:\\n{SKLearn_Decision_Tree_Regressor_Results_DF}\")"
   ]
  },
  {
   "cell_type": "markdown",
   "metadata": {},
   "source": [
    "# Custom Decision Trees"
   ]
  },
  {
   "cell_type": "code",
   "execution_count": 4,
   "metadata": {},
   "outputs": [
    {
     "name": "stdout",
     "output_type": "stream",
     "text": [
      "Custom Decision Tree Regressor Mean Absolute Error: 0.012880602786728148\n",
      "Custom Decision Tree Regressor Mean Squared Error: 0.0013511731482142384\n",
      "\n",
      "Custom Decision Tree Predictions:\n",
      "       Actual  Predicted\n",
      "154  0.274949   0.273432\n",
      "136  0.240905   0.237668\n",
      "137  0.254603   0.254724\n",
      "173  0.018144   0.019675\n",
      "64   0.192490   0.194303\n",
      "18   0.334591   0.333571\n",
      "51   0.608144   0.611689\n",
      "170  0.009978   0.008192\n",
      "54   0.614832   0.631230\n",
      "76   0.285545   0.273888\n",
      "15   0.378399   0.352574\n",
      "40   0.642014   0.652731\n",
      "63   0.894065   0.890520\n",
      "82   0.201327   0.205128\n",
      "143  0.364016   0.222412\n",
      "114  0.182445   0.183989\n",
      "31   0.351231   0.352574\n",
      "159  0.397456   0.222412\n",
      "147  0.199997   0.209815\n",
      "150  0.221378   0.225057\n",
      "58   0.720149   0.731819\n",
      "180  0.003344   0.003022\n",
      "191  0.029411   0.024187\n",
      "133  0.216946   0.213749\n",
      "126  0.211856   0.207612\n",
      "90   0.241455   0.244705\n",
      "112  0.182256   0.179987\n",
      "10   0.333920   0.333557\n",
      "94   0.267079   0.268852\n",
      "131  0.201193   0.209815\n",
      "29   0.345026   0.357865\n",
      "161  0.005076   0.005385\n",
      "33   0.584279   0.585515\n",
      "151  0.227354   0.231933\n",
      "74   0.267133   0.273888\n",
      "124  0.203838   0.200669\n",
      "22   0.330133   0.329904\n",
      "155  0.295094   0.292650\n",
      "127  0.212111   0.222412\n"
     ]
    }
   ],
   "source": [
    "Custom_Decision_Tree_Regressor = DecisionTreeRegressor(max_depth=100, min_samples_split=2)\n",
    "\n",
    "Custom_Decision_Tree_Regressor.fit(X_train.values, y_train.values)\n",
    "\n",
    "Custom_Decision_Tree_Regressor_Prediction = Custom_Decision_Tree_Regressor.predict(X_test.values)\n",
    "\n",
    "Custom_Decision_Tree_Regressor_Prediction_MAE = mean_absolute_error(y_test, Custom_Decision_Tree_Regressor_Prediction)\n",
    "Custom_Decision_Tree_Regressor_Prediction_MSE = mean_squared_error(y_test, Custom_Decision_Tree_Regressor_Prediction)\n",
    "\n",
    "print(f\"Custom Decision Tree Regressor Mean Absolute Error: {Custom_Decision_Tree_Regressor_Prediction_MAE}\")\n",
    "print(f\"Custom Decision Tree Regressor Mean Squared Error: {Custom_Decision_Tree_Regressor_Prediction_MSE}\")\n",
    "\n",
    "Custom_Decision_Tree_Regressor_Results_DF = pd.DataFrame({'Actual': y_test, 'Predicted': Custom_Decision_Tree_Regressor_Prediction})\n",
    "print(f\"\\nCustom Decision Tree Predictions:\\n{Custom_Decision_Tree_Regressor_Results_DF}\")"
   ]
  },
  {
   "cell_type": "markdown",
   "metadata": {},
   "source": [
    "# Random Forest Regressor using SKLearn\n",
    "https://scikit-learn.org/stable/modules/generated/sklearn.ensemble.RandomForestRegressor.html"
   ]
  },
  {
   "cell_type": "code",
   "execution_count": 5,
   "metadata": {},
   "outputs": [
    {
     "name": "stdout",
     "output_type": "stream",
     "text": [
      "SKLearn Random Forest Regressor Mean Absolute Error: 0.011904015146115167\n",
      "SKLearn Random Forest Regressor Mean Squared Error: 0.0007689667154152758\n",
      "\n",
      "SKLearn Random Forest Predictions:\n",
      "       Actual  Predicted\n",
      "154  0.274949   0.276633\n",
      "136  0.240905   0.233046\n",
      "137  0.254603   0.270337\n",
      "173  0.018144   0.018779\n",
      "64   0.192490   0.200028\n",
      "18   0.334591   0.331705\n",
      "51   0.608144   0.607050\n",
      "170  0.009978   0.008299\n",
      "54   0.614832   0.611928\n",
      "76   0.285545   0.265249\n",
      "15   0.378399   0.352429\n",
      "40   0.642014   0.680541\n",
      "63   0.894065   0.913723\n",
      "82   0.201327   0.205412\n",
      "143  0.364016   0.264113\n",
      "114  0.182445   0.181766\n",
      "31   0.351231   0.349136\n",
      "159  0.397456   0.270736\n",
      "147  0.199997   0.203322\n",
      "150  0.221378   0.217261\n",
      "58   0.720149   0.724871\n",
      "180  0.003344   0.004406\n",
      "191  0.029411   0.023371\n",
      "133  0.216946   0.211266\n",
      "126  0.211856   0.212342\n",
      "90   0.241455   0.250233\n",
      "112  0.182256   0.179723\n",
      "10   0.333920   0.332694\n",
      "94   0.267079   0.257963\n",
      "131  0.201193   0.199627\n",
      "29   0.345026   0.345939\n",
      "161  0.005076   0.004939\n",
      "33   0.584279   0.585844\n",
      "151  0.227354   0.227132\n",
      "74   0.267133   0.256586\n",
      "124  0.203838   0.199275\n",
      "22   0.330133   0.330197\n",
      "155  0.295094   0.286163\n",
      "127  0.212111   0.220827\n"
     ]
    }
   ],
   "source": [
    "SKLearn_Random_Forest_Regressor = SKLearnRandomForestRegressor() # https://scikit-learn.org/stable/modules/generated/sklearn.ensemble.RandomForestRegressor.html\n",
    "\n",
    "SKLearn_Random_Forest_Regressor.fit(X_train, y_train)\n",
    "\n",
    "SKLearn_Random_Forest_Regressor_Prediction = SKLearn_Random_Forest_Regressor.predict(X_test)\n",
    "\n",
    "SKLearn_Random_Forest_Regressor_Prediction_MAE = mean_absolute_error(y_test, SKLearn_Random_Forest_Regressor_Prediction)\n",
    "SKLearn_Random_Forest_Regressor_Prediction_MSE = mean_squared_error(y_test, SKLearn_Random_Forest_Regressor_Prediction)\n",
    "\n",
    "print(f\"SKLearn Random Forest Regressor Mean Absolute Error: {SKLearn_Random_Forest_Regressor_Prediction_MAE}\")\n",
    "print(f\"SKLearn Random Forest Regressor Mean Squared Error: {SKLearn_Random_Forest_Regressor_Prediction_MSE}\")\n",
    "\n",
    "SKLearn_Random_Forest_Regressor_Results_DF = pd.DataFrame({'Actual': y_test, 'Predicted': SKLearn_Random_Forest_Regressor_Prediction})\n",
    "print(f\"\\nSKLearn Random Forest Predictions:\\n{SKLearn_Random_Forest_Regressor_Results_DF}\")\n"
   ]
  },
  {
   "cell_type": "markdown",
   "metadata": {},
   "source": [
    "# Custom Random Forest Regressor using SKLearn Decision Trees"
   ]
  },
  {
   "cell_type": "code",
   "execution_count": 6,
   "metadata": {},
   "outputs": [
    {
     "name": "stdout",
     "output_type": "stream",
     "text": [
      "Custom Random Forest Regressor using SKLearn Decision Trees Mean Absolute Error: 0.011632225990614945\n",
      "Custom Random Forest Regressor using SKLearn Decision Trees Mean Squared Error: 0.0008405946323864392\n",
      "\n",
      "Custom Random Forest Regressor using SKLearn Decision Trees Predictions:\n",
      "       Actual  Predicted\n",
      "154  0.274949   0.270688\n",
      "136  0.240905   0.231068\n",
      "137  0.254603   0.268476\n",
      "173  0.018144   0.018636\n",
      "64   0.192490   0.198342\n",
      "18   0.334591   0.333213\n",
      "51   0.608144   0.606215\n",
      "170  0.009978   0.008345\n",
      "54   0.614832   0.610003\n",
      "76   0.285545   0.264696\n",
      "15   0.378399   0.351789\n",
      "40   0.642014   0.680066\n",
      "63   0.894065   0.894728\n",
      "82   0.201327   0.204951\n",
      "143  0.364016   0.257889\n",
      "114  0.182445   0.181991\n",
      "31   0.351231   0.349882\n",
      "159  0.397456   0.263425\n",
      "147  0.199997   0.204956\n",
      "150  0.221378   0.219749\n",
      "58   0.720149   0.724677\n",
      "180  0.003344   0.004216\n",
      "191  0.029411   0.024845\n",
      "133  0.216946   0.212638\n",
      "126  0.211856   0.211936\n",
      "90   0.241455   0.249272\n",
      "112  0.182256   0.179470\n",
      "10   0.333920   0.333512\n",
      "94   0.267079   0.265477\n",
      "131  0.201193   0.199384\n",
      "29   0.345026   0.346973\n",
      "161  0.005076   0.004827\n",
      "33   0.584279   0.586476\n",
      "151  0.227354   0.226585\n",
      "74   0.267133   0.257439\n",
      "124  0.203838   0.199797\n",
      "22   0.330133   0.329864\n",
      "155  0.295094   0.280107\n",
      "127  0.212111   0.220405\n"
     ]
    }
   ],
   "source": [
    "SKLearn_Decision_Trees_Random_Forest_Regressor = RandomForestRegressor(n_estimators=100, max_depth=None, custom=False)\n",
    "SKLearn_Decision_Trees_Random_Forest_Regressor.fit(X_train, y_train)\n",
    "\n",
    "SKLearn_Decision_Trees_Random_Forest_Regressor_Prediction = SKLearn_Decision_Trees_Random_Forest_Regressor.predict(X_test)\n",
    "\n",
    "SKLearn_Decision_Trees_Random_Forest_Regressor_MAE = mean_absolute_error(y_test, SKLearn_Decision_Trees_Random_Forest_Regressor_Prediction)\n",
    "SKLearn_Decision_Trees_Random_Forest_Regressor_MSE = mean_squared_error(y_test, SKLearn_Decision_Trees_Random_Forest_Regressor_Prediction)\n",
    "\n",
    "print(f\"Custom Random Forest Regressor using SKLearn Decision Trees Mean Absolute Error: {SKLearn_Decision_Trees_Random_Forest_Regressor_MAE}\")\n",
    "print(f\"Custom Random Forest Regressor using SKLearn Decision Trees Mean Squared Error: {SKLearn_Decision_Trees_Random_Forest_Regressor_MSE}\")\n",
    "\n",
    "SKLearn_Decision_Trees_Random_Forest_Regressor_Results_DF = pd.DataFrame({'Actual': y_test, 'Predicted': SKLearn_Decision_Trees_Random_Forest_Regressor_Prediction})\n",
    "print(f\"\\nCustom Random Forest Regressor using SKLearn Decision Trees Predictions:\\n{SKLearn_Decision_Trees_Random_Forest_Regressor_Results_DF}\")"
   ]
  },
  {
   "cell_type": "markdown",
   "metadata": {},
   "source": [
    "# Custom Random Forest Regressor"
   ]
  },
  {
   "cell_type": "code",
   "execution_count": 7,
   "metadata": {},
   "outputs": [
    {
     "name": "stdout",
     "output_type": "stream",
     "text": [
      "Custom Random Forest Regressor Mean Absolute Error: 0.01363101110579657\n",
      "Custom Random Forest Regressor Mean Squared Error: 0.000784614494030972\n",
      "\n",
      "Custom Random Forest Regressor Predictions:\n",
      "       Actual  Predicted\n",
      "154  0.274949   0.290437\n",
      "136  0.240905   0.231655\n",
      "137  0.254603   0.263411\n",
      "173  0.018144   0.021050\n",
      "64   0.192490   0.193372\n",
      "18   0.334591   0.333042\n",
      "51   0.608144   0.609713\n",
      "170  0.009978   0.009741\n",
      "54   0.614832   0.622588\n",
      "76   0.285545   0.263066\n",
      "15   0.378399   0.359308\n",
      "40   0.642014   0.663760\n",
      "63   0.894065   0.937508\n",
      "82   0.201327   0.205553\n",
      "143  0.364016   0.269496\n",
      "114  0.182445   0.181983\n",
      "31   0.351231   0.357987\n",
      "159  0.397456   0.271558\n",
      "147  0.199997   0.213323\n",
      "150  0.221378   0.222663\n",
      "58   0.720149   0.742965\n",
      "180  0.003344   0.002910\n",
      "191  0.029411   0.024197\n",
      "133  0.216946   0.216538\n",
      "126  0.211856   0.221352\n",
      "90   0.241455   0.263883\n",
      "112  0.182256   0.180214\n",
      "10   0.333920   0.333369\n",
      "94   0.267079   0.279239\n",
      "131  0.201193   0.209388\n",
      "29   0.345026   0.356112\n",
      "161  0.005076   0.004818\n",
      "33   0.584279   0.588562\n",
      "151  0.227354   0.227886\n",
      "74   0.267133   0.264593\n",
      "124  0.203838   0.204402\n",
      "22   0.330133   0.329393\n",
      "155  0.295094   0.305649\n",
      "127  0.212111   0.227739\n"
     ]
    }
   ],
   "source": [
    "Custom_Random_Forest_Regressor = RandomForestRegressor(n_estimators=100, max_depth=100)\n",
    "Custom_Random_Forest_Regressor.fit(X_train, y_train)\n",
    "\n",
    "Custom_Random_Forest_Regressor_Prediction = Custom_Random_Forest_Regressor.predict(X_test)\n",
    "\n",
    "Custom_Random_Forest_Regressor_MAE = mean_absolute_error(y_test, Custom_Random_Forest_Regressor_Prediction)\n",
    "Custom_Random_Forest_Regressor_MSE = mean_squared_error(y_test, Custom_Random_Forest_Regressor_Prediction)\n",
    "\n",
    "print(f\"Custom Random Forest Regressor Mean Absolute Error: {Custom_Random_Forest_Regressor_MAE}\")\n",
    "print(f\"Custom Random Forest Regressor Mean Squared Error: {Custom_Random_Forest_Regressor_MSE}\")\n",
    "\n",
    "Custom_Random_Forest_Regressor_Results_DF = pd.DataFrame({'Actual': y_test, 'Predicted': Custom_Random_Forest_Regressor_Prediction})\n",
    "print(f\"\\nCustom Random Forest Regressor Predictions:\\n{Custom_Random_Forest_Regressor_Results_DF}\")"
   ]
  }
 ],
 "metadata": {
  "kernelspec": {
   "display_name": "Python 3",
   "language": "python",
   "name": "python3"
  },
  "language_info": {
   "codemirror_mode": {
    "name": "ipython",
    "version": 3
   },
   "file_extension": ".py",
   "mimetype": "text/x-python",
   "name": "python",
   "nbconvert_exporter": "python",
   "pygments_lexer": "ipython3",
   "version": "3.11.5"
  }
 },
 "nbformat": 4,
 "nbformat_minor": 2
}
