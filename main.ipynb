{
 "cells": [
  {
   "cell_type": "markdown",
   "metadata": {},
   "source": [
    "# Importing libraries and classes"
   ]
  },
  {
   "cell_type": "code",
   "execution_count": 8,
   "metadata": {},
   "outputs": [],
   "source": [
    "import pandas as pd\n",
    "import numpy as np\n",
    "from sklearn.model_selection import train_test_split\n",
    "from sklearn.metrics import mean_absolute_error, mean_squared_error\n",
    "from sklearn.ensemble import RandomForestRegressor as SKLearnRandomForestRegressor\n",
    "from RandomForestRegressor import RandomForestRegressor\n",
    "\n",
    "# Add your required imports here"
   ]
  },
  {
   "cell_type": "markdown",
   "metadata": {},
   "source": [
    "# Reading and splitting the data"
   ]
  },
  {
   "cell_type": "code",
   "execution_count": 9,
   "metadata": {},
   "outputs": [],
   "source": [
    "df = pd.read_csv('./NSO_Population_Sex_dataset/NSO_POPULATION_DATA_CLEANED.csv')\n",
    "\n",
    "feature_cols = ['District', 'Sex', 'Year', 'Population_Growth_Rate','Average_Population']\n",
    "X = pd.get_dummies(df[feature_cols], columns=['District', 'Sex'])\n",
    "y = df[\"Population\"]\n",
    "\n",
    "X_train, X_test, y_train, y_test = train_test_split(X, y, test_size=0.2)"
   ]
  },
  {
   "cell_type": "markdown",
   "metadata": {},
   "source": [
    "# SKLearn Decision Trees"
   ]
  },
  {
   "cell_type": "code",
   "execution_count": 10,
   "metadata": {},
   "outputs": [],
   "source": [
    "# To be added by Nathan Camilleri"
   ]
  },
  {
   "cell_type": "markdown",
   "metadata": {},
   "source": [
    "# Custom Decision Trees"
   ]
  },
  {
   "cell_type": "code",
   "execution_count": 11,
   "metadata": {},
   "outputs": [],
   "source": [
    "# To be added by Nathan Camilleri"
   ]
  },
  {
   "cell_type": "markdown",
   "metadata": {},
   "source": [
    "# Random Forest Regressor using SKLearn\n",
    "https://scikit-learn.org/stable/modules/generated/sklearn.ensemble.RandomForestRegressor.html"
   ]
  },
  {
   "cell_type": "code",
   "execution_count": 12,
   "metadata": {},
   "outputs": [
    {
     "name": "stdout",
     "output_type": "stream",
     "text": [
      "SKLearn Random Forest Regressor Mean Absolute Error: 0.009707105319976496\n",
      "SKLearn Random Forest Regressor Mean Squared Error: 0.000506320728661445\n",
      "\n",
      "SKLearn Random Forest Predictions:\n",
      "       Actual  Predicted\n",
      "74   0.267133   0.258390\n",
      "9    0.330401   0.332259\n",
      "123  0.200387   0.199207\n",
      "63   0.894065   0.868721\n",
      "47   1.000000   0.880938\n",
      "175  0.024187   0.018968\n",
      "25   0.331167   0.330780\n",
      "126  0.211856   0.211878\n",
      "90   0.241455   0.249158\n",
      "103  0.184513   0.187596\n",
      "106  0.192718   0.201713\n",
      "98   0.175555   0.179836\n",
      "161  0.005076   0.005129\n",
      "16   0.340635   0.336083\n",
      "64   0.192490   0.188591\n",
      "120  0.192624   0.191515\n",
      "81   0.196801   0.189670\n",
      "190  0.029264   0.018849\n",
      "189  0.019675   0.016553\n",
      "88   0.230349   0.233909\n",
      "164  0.006728   0.006197\n",
      "80   0.194303   0.195165\n",
      "130  0.193162   0.194556\n",
      "15   0.378399   0.352574\n",
      "35   0.589261   0.590557\n",
      "105  0.189186   0.194908\n",
      "38   0.590779   0.596339\n",
      "113  0.181330   0.182127\n",
      "191  0.029411   0.018593\n",
      "143  0.364016   0.335163\n",
      "84   0.211856   0.217473\n",
      "116  0.186017   0.184538\n",
      "32   0.585246   0.586540\n",
      "59   0.752918   0.759890\n",
      "52   0.611689   0.610397\n",
      "166  0.007266   0.006281\n",
      "30   0.352574   0.349638\n",
      "45   0.898457   0.847243\n",
      "108  0.200669   0.206084\n"
     ]
    }
   ],
   "source": [
    "SKLearn_Random_Forest_Regressor = SKLearnRandomForestRegressor() # https://scikit-learn.org/stable/modules/generated/sklearn.ensemble.RandomForestRegressor.html\n",
    "\n",
    "SKLearn_Random_Forest_Regressor.fit(X_train, y_train)\n",
    "\n",
    "SKLearn_Random_Forest_Regressor_Prediction = SKLearn_Random_Forest_Regressor.predict(X_test)\n",
    "\n",
    "SKLearn_Random_Forest_Regressor_Prediction_MAE = mean_absolute_error(y_test, SKLearn_Random_Forest_Regressor_Prediction)\n",
    "SKLearn_Random_Forest_Regressor_Prediction_MSE = mean_squared_error(y_test, SKLearn_Random_Forest_Regressor_Prediction)\n",
    "\n",
    "print(f\"SKLearn Random Forest Regressor Mean Absolute Error: {SKLearn_Random_Forest_Regressor_Prediction_MAE}\")\n",
    "print(f\"SKLearn Random Forest Regressor Mean Squared Error: {SKLearn_Random_Forest_Regressor_Prediction_MSE}\")\n",
    "\n",
    "SKLearn_Random_Forest_Regressor_Results_DF = pd.DataFrame({'Actual': y_test, 'Predicted': SKLearn_Random_Forest_Regressor_Prediction})\n",
    "print(f\"\\nSKLearn Random Forest Predictions:\\n{SKLearn_Random_Forest_Regressor_Results_DF}\")\n"
   ]
  },
  {
   "cell_type": "markdown",
   "metadata": {},
   "source": [
    "# Custom Random Forest Regressor using SKLearn Decision Trees"
   ]
  },
  {
   "cell_type": "code",
   "execution_count": 13,
   "metadata": {},
   "outputs": [
    {
     "name": "stdout",
     "output_type": "stream",
     "text": [
      "Custom Random Forest Regressor using SKLearn Decision Trees Mean Absolute Error: 0.0096519602931013\n",
      "Custom Random Forest Regressor using SKLearn Decision Trees Mean Squared Error: 0.0005234898129579686\n",
      "\n",
      "Custom Random Forest Regressor using SKLearn Decision Trees Predictions:\n",
      "       Actual  Predicted\n",
      "74   0.267133   0.259740\n",
      "9    0.330401   0.333193\n",
      "123  0.200387   0.200267\n",
      "63   0.894065   0.863659\n",
      "47   1.000000   0.873561\n",
      "175  0.024187   0.019635\n",
      "25   0.331167   0.330588\n",
      "126  0.211856   0.212389\n",
      "90   0.241455   0.250160\n",
      "103  0.184513   0.187075\n",
      "106  0.192718   0.201566\n",
      "98   0.175555   0.179276\n",
      "161  0.005076   0.005120\n",
      "16   0.340635   0.336110\n",
      "64   0.192490   0.186429\n",
      "120  0.192624   0.191334\n",
      "81   0.196801   0.188412\n",
      "190  0.029264   0.018918\n",
      "189  0.019675   0.016440\n",
      "88   0.230349   0.234740\n",
      "164  0.006728   0.006462\n",
      "80   0.194303   0.188795\n",
      "130  0.193162   0.194907\n",
      "15   0.378399   0.352330\n",
      "35   0.589261   0.590387\n",
      "105  0.189186   0.193612\n",
      "38   0.590779   0.597293\n",
      "113  0.181330   0.180398\n",
      "191  0.029411   0.018983\n",
      "143  0.364016   0.336912\n",
      "84   0.211856   0.216210\n",
      "116  0.186017   0.185381\n",
      "32   0.585246   0.586091\n",
      "59   0.752918   0.757193\n",
      "52   0.611689   0.610176\n",
      "166  0.007266   0.006404\n",
      "30   0.352574   0.350349\n",
      "45   0.898457   0.862926\n",
      "108  0.200669   0.207804\n"
     ]
    }
   ],
   "source": [
    "SKLearn_Decision_Trees_Random_Forest_Regressor = RandomForestRegressor(n_estimators=100, max_depth=None, custom=False)\n",
    "SKLearn_Decision_Trees_Random_Forest_Regressor.fit(X_train, y_train)\n",
    "\n",
    "SKLearn_Decision_Trees_Random_Forest_Regressor_Prediction = SKLearn_Decision_Trees_Random_Forest_Regressor.predict(X_test)\n",
    "\n",
    "SKLearn_Decision_Trees_Random_Forest_Regressor_MAE = mean_absolute_error(y_test, SKLearn_Decision_Trees_Random_Forest_Regressor_Prediction)\n",
    "SKLearn_Decision_Trees_Random_Forest_Regressor_MSE = mean_squared_error(y_test, SKLearn_Decision_Trees_Random_Forest_Regressor_Prediction)\n",
    "\n",
    "print(f\"Custom Random Forest Regressor using SKLearn Decision Trees Mean Absolute Error: {SKLearn_Decision_Trees_Random_Forest_Regressor_MAE}\")\n",
    "print(f\"Custom Random Forest Regressor using SKLearn Decision Trees Mean Squared Error: {SKLearn_Decision_Trees_Random_Forest_Regressor_MSE}\")\n",
    "\n",
    "SKLearn_Decision_Trees_Random_Forest_Regressor_Results_DF = pd.DataFrame({'Actual': y_test, 'Predicted': SKLearn_Decision_Trees_Random_Forest_Regressor_Prediction})\n",
    "print(f\"\\nCustom Random Forest Regressor using SKLearn Decision Trees Predictions:\\n{SKLearn_Decision_Trees_Random_Forest_Regressor_Results_DF}\")"
   ]
  },
  {
   "cell_type": "markdown",
   "metadata": {},
   "source": [
    "# Custom Random Forest Regressor"
   ]
  },
  {
   "cell_type": "code",
   "execution_count": 14,
   "metadata": {},
   "outputs": [
    {
     "name": "stdout",
     "output_type": "stream",
     "text": [
      "Custom Random Forest Regressor Mean Absolute Error: 0.010238961783125871\n",
      "Custom Random Forest Regressor Mean Squared Error: 0.00037032057077811975\n",
      "\n",
      "Custom Random Forest Regressor Predictions:\n",
      "       Actual  Predicted\n",
      "74   0.267133   0.264886\n",
      "9    0.330401   0.332592\n",
      "123  0.200387   0.200778\n",
      "63   0.894065   0.911153\n",
      "47   1.000000   0.911153\n",
      "175  0.024187   0.020169\n",
      "25   0.331167   0.333239\n",
      "126  0.211856   0.221216\n",
      "90   0.241455   0.259664\n",
      "103  0.184513   0.188650\n",
      "106  0.192718   0.203628\n",
      "98   0.175555   0.181015\n",
      "161  0.005076   0.004827\n",
      "16   0.340635   0.336246\n",
      "64   0.192490   0.186217\n",
      "120  0.192624   0.190135\n",
      "81   0.196801   0.188154\n",
      "190  0.029264   0.019858\n",
      "189  0.019675   0.018045\n",
      "88   0.230349   0.237502\n",
      "164  0.006728   0.005961\n",
      "80   0.194303   0.198259\n",
      "130  0.193162   0.194925\n",
      "15   0.378399   0.354327\n",
      "35   0.589261   0.594953\n",
      "105  0.189186   0.195982\n",
      "38   0.590779   0.612842\n",
      "113  0.181330   0.181432\n",
      "191  0.029411   0.020124\n",
      "143  0.364016   0.309930\n",
      "84   0.211856   0.217377\n",
      "116  0.186017   0.185362\n",
      "32   0.585246   0.588391\n",
      "59   0.752918   0.783755\n",
      "52   0.611689   0.608573\n",
      "166  0.007266   0.006367\n",
      "30   0.352574   0.359449\n",
      "45   0.898457   0.901933\n",
      "108  0.200669   0.211709\n"
     ]
    }
   ],
   "source": [
    "Custom_Random_Forest_Regressor = RandomForestRegressor(n_estimators=100, max_depth=100)\n",
    "Custom_Random_Forest_Regressor.fit(X_train, y_train)\n",
    "\n",
    "Custom_Random_Forest_Regressor_Prediction = Custom_Random_Forest_Regressor.predict(X_test)\n",
    "\n",
    "Custom_Random_Forest_Regressor_MAE = mean_absolute_error(y_test, Custom_Random_Forest_Regressor_Prediction)\n",
    "Custom_Random_Forest_Regressor_MSE = mean_squared_error(y_test, Custom_Random_Forest_Regressor_Prediction)\n",
    "\n",
    "print(f\"Custom Random Forest Regressor Mean Absolute Error: {Custom_Random_Forest_Regressor_MAE}\")\n",
    "print(f\"Custom Random Forest Regressor Mean Squared Error: {Custom_Random_Forest_Regressor_MSE}\")\n",
    "\n",
    "Custom_Random_Forest_Regressor_Results_DF = pd.DataFrame({'Actual': y_test, 'Predicted': Custom_Random_Forest_Regressor_Prediction})\n",
    "print(f\"\\nCustom Random Forest Regressor Predictions:\\n{Custom_Random_Forest_Regressor_Results_DF}\")"
   ]
  }
 ],
 "metadata": {
  "kernelspec": {
   "display_name": "Python 3",
   "language": "python",
   "name": "python3"
  },
  "language_info": {
   "codemirror_mode": {
    "name": "ipython",
    "version": 3
   },
   "file_extension": ".py",
   "mimetype": "text/x-python",
   "name": "python",
   "nbconvert_exporter": "python",
   "pygments_lexer": "ipython3",
   "version": "3.12.0"
  }
 },
 "nbformat": 4,
 "nbformat_minor": 2
}
