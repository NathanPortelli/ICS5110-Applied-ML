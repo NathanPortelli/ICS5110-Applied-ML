{
 "cells": [
  {
   "cell_type": "markdown",
   "metadata": {},
   "source": [
    "# Importing libraries and classes"
   ]
  },
  {
   "cell_type": "code",
   "execution_count": 5,
   "metadata": {},
   "outputs": [],
   "source": [
    "import pandas as pd\n",
    "import numpy as np\n",
    "\n",
    "from sklearn.model_selection import train_test_split\n",
    "from sklearn.metrics import mean_absolute_error, mean_squared_error\n",
    "from sklearn.ensemble import RandomForestRegressor as SKLearnRandomForestRegressor\n",
    "from sklearn.tree import DecisionTreeRegressor as SKLearnDecisionTreeRegressor\n",
    "\n",
    "from DecisionTreeRegressor import DecisionTreeRegressor\n",
    "from RandomForestRegressor import RandomForestRegressor\n",
    "from LinearRegression import LogisticRegression"
   ]
  },
  {
   "cell_type": "markdown",
   "metadata": {},
   "source": [
    "# Reading and splitting the data"
   ]
  },
  {
   "cell_type": "code",
   "execution_count": 6,
   "metadata": {},
   "outputs": [],
   "source": [
    "df = pd.read_csv('./NSO_Population_Sex_dataset/NSO_POPULATION_DATA_CLEANED.csv')\n",
    "\n",
    "feature_cols = ['District', 'Sex', 'Year', 'Population_Growth_Rate','Average_Population']\n",
    "X = pd.get_dummies(df[feature_cols], columns=['District', 'Sex'])\n",
    "y = df[\"Population\"]\n",
    "\n",
    "X_train, X_test, y_train, y_test = train_test_split(X, y, test_size=0.2)"
   ]
  },
  {
   "cell_type": "markdown",
   "metadata": {},
   "source": [
    "# SKLearn Decision Trees"
   ]
  },
  {
   "cell_type": "code",
   "execution_count": 7,
   "metadata": {},
   "outputs": [
    {
     "name": "stdout",
     "output_type": "stream",
     "text": [
      "SKLearn Decision Tree Regressor Mean Absolute Error: 0.015074905544077323\n",
      "SKLearn Decision Tree Regressor Mean Squared Error: 0.0007723816286669939\n",
      "\n",
      "SKLearn Decision Tree Predictions:\n",
      "       Actual  Predicted\n",
      "25   0.331167   0.333404\n",
      "91   0.244705   0.247635\n",
      "29   0.345026   0.357097\n",
      "132  0.209815   0.216194\n",
      "111  0.222412   0.204437\n",
      "57   0.687152   0.687170\n",
      "152  0.237668   0.247635\n",
      "10   0.333920   0.333404\n",
      "186  0.008192   0.007939\n",
      "118  0.188260   0.186869\n",
      "100  0.180819   0.186869\n",
      "179  0.002243   0.001880\n",
      "147  0.199997   0.201668\n",
      "28   0.340245   0.357097\n",
      "110  0.220062   0.202423\n",
      "153  0.254724   0.296744\n",
      "172  0.014773   0.020779\n",
      "183  0.004230   0.007939\n",
      "120  0.192624   0.186869\n",
      "35   0.589261   0.592101\n",
      "51   0.608144   0.613334\n",
      "81   0.196801   0.187675\n",
      "94   0.267079   0.285572\n",
      "75   0.273888   0.247635\n",
      "169  0.008958   0.007939\n",
      "159  0.397456   0.285572\n",
      "15   0.378399   0.357097\n",
      "79   0.325540   0.285572\n",
      "59   0.752918   0.687170\n",
      "142  0.365064   0.346216\n",
      "129  0.185560   0.187675\n",
      "32   0.585246   0.592101\n",
      "38   0.590779   0.592101\n",
      "190  0.029264   0.020779\n",
      "43   0.767355   0.687170\n",
      "170  0.009978   0.007939\n",
      "48   0.607096   0.613334\n",
      "0    0.337277   0.334470\n",
      "175  0.024187   0.020779\n"
     ]
    }
   ],
   "source": [
    "SKLearn_Decision_Tree_Regressor = SKLearnDecisionTreeRegressor(max_depth=100, min_samples_split=2, min_samples_leaf=5)\n",
    "\n",
    "SKLearn_Decision_Tree_Regressor.fit(X_train, y_train)\n",
    "\n",
    "SKLearn_Decision_Tree_Regressor_Prediction = SKLearn_Decision_Tree_Regressor.predict(X_test)\n",
    "\n",
    "SKLearn_Decision_Tree_Regressor_Prediction_MAE = mean_absolute_error(y_test, SKLearn_Decision_Tree_Regressor_Prediction)\n",
    "SKLearn_Decision_Tree_Regressor_Prediction_MSE = mean_squared_error(y_test, SKLearn_Decision_Tree_Regressor_Prediction)\n",
    "\n",
    "print(f\"SKLearn Decision Tree Regressor Mean Absolute Error: {SKLearn_Decision_Tree_Regressor_Prediction_MAE}\")\n",
    "print(f\"SKLearn Decision Tree Regressor Mean Squared Error: {SKLearn_Decision_Tree_Regressor_Prediction_MSE}\")\n",
    "\n",
    "SKLearn_Decision_Tree_Regressor_Results_DF = pd.DataFrame({'Actual': y_test, 'Predicted': SKLearn_Decision_Tree_Regressor_Prediction})\n",
    "print(f\"\\nSKLearn Decision Tree Predictions:\\n{SKLearn_Decision_Tree_Regressor_Results_DF}\")"
   ]
  },
  {
   "cell_type": "markdown",
   "metadata": {},
   "source": [
    "# Custom Decision Trees"
   ]
  },
  {
   "cell_type": "code",
   "execution_count": 8,
   "metadata": {},
   "outputs": [
    {
     "name": "stdout",
     "output_type": "stream",
     "text": [
      "Custom Decision Tree Regressor Mean Absolute Error: 0.010683617202465998\n",
      "Custom Decision Tree Regressor Mean Squared Error: 0.00030303990767434607\n",
      "\n",
      "Custom Decision Tree Predictions:\n",
      "       Actual  Predicted\n",
      "25   0.331167   0.330334\n",
      "91   0.244705   0.250547\n",
      "29   0.345026   0.357865\n",
      "132  0.209815   0.208270\n",
      "111  0.222412   0.212111\n",
      "57   0.687152   0.689139\n",
      "152  0.237668   0.251796\n",
      "10   0.333920   0.333557\n",
      "186  0.008192   0.010368\n",
      "118  0.188260   0.182283\n",
      "100  0.180819   0.190878\n",
      "179  0.002243   0.003344\n",
      "147  0.199997   0.201193\n",
      "28   0.340245   0.344811\n",
      "110  0.220062   0.211856\n",
      "153  0.254724   0.273432\n",
      "172  0.014773   0.014115\n",
      "183  0.004230   0.004593\n",
      "120  0.192624   0.186957\n",
      "35   0.589261   0.591961\n",
      "51   0.608144   0.611689\n",
      "81   0.196801   0.198278\n",
      "94   0.267079   0.268852\n",
      "75   0.273888   0.250547\n",
      "169  0.008958   0.007279\n",
      "159  0.397456   0.364016\n",
      "15   0.378399   0.351231\n",
      "79   0.325540   0.268852\n",
      "59   0.752918   0.797599\n",
      "142  0.365064   0.324062\n",
      "129  0.185560   0.183734\n",
      "32   0.585246   0.584279\n",
      "38   0.590779   0.609447\n",
      "190  0.029264   0.022549\n",
      "43   0.767355   0.797599\n",
      "170  0.009978   0.011577\n",
      "48   0.607096   0.604276\n",
      "0    0.337277   0.332684\n",
      "175  0.024187   0.029411\n"
     ]
    }
   ],
   "source": [
    "Custom_Decision_Tree_Regressor = DecisionTreeRegressor(max_depth=100, min_samples_split=2)\n",
    "\n",
    "Custom_Decision_Tree_Regressor.fit(X_train.values, y_train.values)\n",
    "\n",
    "Custom_Decision_Tree_Regressor_Prediction = Custom_Decision_Tree_Regressor.predict(X_test.values)\n",
    "\n",
    "Custom_Decision_Tree_Regressor_Prediction_MAE = mean_absolute_error(y_test, Custom_Decision_Tree_Regressor_Prediction)\n",
    "Custom_Decision_Tree_Regressor_Prediction_MSE = mean_squared_error(y_test, Custom_Decision_Tree_Regressor_Prediction)\n",
    "\n",
    "print(f\"Custom Decision Tree Regressor Mean Absolute Error: {Custom_Decision_Tree_Regressor_Prediction_MAE}\")\n",
    "print(f\"Custom Decision Tree Regressor Mean Squared Error: {Custom_Decision_Tree_Regressor_Prediction_MSE}\")\n",
    "\n",
    "Custom_Decision_Tree_Regressor_Results_DF = pd.DataFrame({'Actual': y_test, 'Predicted': Custom_Decision_Tree_Regressor_Prediction})\n",
    "print(f\"\\nCustom Decision Tree Predictions:\\n{Custom_Decision_Tree_Regressor_Results_DF}\")"
   ]
  },
  {
   "cell_type": "markdown",
   "metadata": {},
   "source": [
    "# Random Forest Regressor using SKLearn\n",
    "https://scikit-learn.org/stable/modules/generated/sklearn.ensemble.RandomForestRegressor.html"
   ]
  },
  {
   "cell_type": "code",
   "execution_count": 9,
   "metadata": {},
   "outputs": [
    {
     "name": "stdout",
     "output_type": "stream",
     "text": [
      "SKLearn Random Forest Regressor Mean Absolute Error: 0.011561182088438005\n",
      "SKLearn Random Forest Regressor Mean Squared Error: 0.00041511734407771045\n",
      "\n",
      "SKLearn Random Forest Predictions:\n",
      "       Actual  Predicted\n",
      "25   0.331167   0.330517\n",
      "91   0.244705   0.234708\n",
      "29   0.345026   0.350541\n",
      "132  0.209815   0.222417\n",
      "111  0.222412   0.217856\n",
      "57   0.687152   0.684622\n",
      "152  0.237668   0.249920\n",
      "10   0.333920   0.332081\n",
      "186  0.008192   0.007307\n",
      "118  0.188260   0.184959\n",
      "100  0.180819   0.183844\n",
      "179  0.002243   0.002687\n",
      "147  0.199997   0.215170\n",
      "28   0.340245   0.341379\n",
      "110  0.220062   0.231648\n",
      "153  0.254724   0.278995\n",
      "172  0.014773   0.013088\n",
      "183  0.004230   0.004562\n",
      "120  0.192624   0.188577\n",
      "35   0.589261   0.592455\n",
      "51   0.608144   0.606721\n",
      "81   0.196801   0.195109\n",
      "94   0.267079   0.257479\n",
      "75   0.273888   0.252843\n",
      "169  0.008958   0.007401\n",
      "159  0.397456   0.314309\n",
      "15   0.378399   0.354706\n",
      "79   0.325540   0.271607\n",
      "59   0.752918   0.725123\n",
      "142  0.365064   0.322269\n",
      "129  0.185560   0.188776\n",
      "32   0.585246   0.588585\n",
      "38   0.590779   0.598674\n",
      "190  0.029264   0.022028\n",
      "43   0.767355   0.735615\n",
      "170  0.009978   0.008197\n",
      "48   0.607096   0.602980\n",
      "0    0.337277   0.333086\n",
      "175  0.024187   0.025863\n"
     ]
    }
   ],
   "source": [
    "SKLearn_Random_Forest_Regressor = SKLearnRandomForestRegressor() # https://scikit-learn.org/stable/modules/generated/sklearn.ensemble.RandomForestRegressor.html\n",
    "\n",
    "SKLearn_Random_Forest_Regressor.fit(X_train, y_train)\n",
    "\n",
    "SKLearn_Random_Forest_Regressor_Prediction = SKLearn_Random_Forest_Regressor.predict(X_test)\n",
    "\n",
    "SKLearn_Random_Forest_Regressor_Prediction_MAE = mean_absolute_error(y_test, SKLearn_Random_Forest_Regressor_Prediction)\n",
    "SKLearn_Random_Forest_Regressor_Prediction_MSE = mean_squared_error(y_test, SKLearn_Random_Forest_Regressor_Prediction)\n",
    "\n",
    "print(f\"SKLearn Random Forest Regressor Mean Absolute Error: {SKLearn_Random_Forest_Regressor_Prediction_MAE}\")\n",
    "print(f\"SKLearn Random Forest Regressor Mean Squared Error: {SKLearn_Random_Forest_Regressor_Prediction_MSE}\")\n",
    "\n",
    "SKLearn_Random_Forest_Regressor_Results_DF = pd.DataFrame({'Actual': y_test, 'Predicted': SKLearn_Random_Forest_Regressor_Prediction})\n",
    "print(f\"\\nSKLearn Random Forest Predictions:\\n{SKLearn_Random_Forest_Regressor_Results_DF}\")\n"
   ]
  },
  {
   "cell_type": "markdown",
   "metadata": {},
   "source": [
    "# Custom Random Forest Regressor using SKLearn Decision Trees"
   ]
  },
  {
   "cell_type": "code",
   "execution_count": 10,
   "metadata": {},
   "outputs": [
    {
     "name": "stdout",
     "output_type": "stream",
     "text": [
      "Custom Random Forest Regressor using SKLearn Decision Trees Mean Absolute Error: 0.011887324254066571\n",
      "Custom Random Forest Regressor using SKLearn Decision Trees Mean Squared Error: 0.00045178211931527507\n",
      "\n",
      "Custom Random Forest Regressor using SKLearn Decision Trees Predictions:\n",
      "       Actual  Predicted\n",
      "25   0.331167   0.330640\n",
      "91   0.244705   0.228680\n",
      "29   0.345026   0.350439\n",
      "132  0.209815   0.217807\n",
      "111  0.222412   0.218112\n",
      "57   0.687152   0.678699\n",
      "152  0.237668   0.245143\n",
      "10   0.333920   0.332551\n",
      "186  0.008192   0.007542\n",
      "118  0.188260   0.185510\n",
      "100  0.180819   0.184094\n",
      "179  0.002243   0.002706\n",
      "147  0.199997   0.212972\n",
      "28   0.340245   0.341412\n",
      "110  0.220062   0.228633\n",
      "153  0.254724   0.278856\n",
      "172  0.014773   0.013264\n",
      "183  0.004230   0.004667\n",
      "120  0.192624   0.189242\n",
      "35   0.589261   0.592773\n",
      "51   0.608144   0.607381\n",
      "81   0.196801   0.193776\n",
      "94   0.267079   0.260507\n",
      "75   0.273888   0.251818\n",
      "169  0.008958   0.007623\n",
      "159  0.397456   0.311696\n",
      "15   0.378399   0.353515\n",
      "79   0.325540   0.271143\n",
      "59   0.752918   0.715498\n",
      "142  0.365064   0.326080\n",
      "129  0.185560   0.189714\n",
      "32   0.585246   0.587171\n",
      "38   0.590779   0.598051\n",
      "190  0.029264   0.021732\n",
      "43   0.767355   0.726423\n",
      "170  0.009978   0.008547\n",
      "48   0.607096   0.603183\n",
      "0    0.337277   0.331705\n",
      "175  0.024187   0.025474\n"
     ]
    }
   ],
   "source": [
    "SKLearn_Decision_Trees_Random_Forest_Regressor = RandomForestRegressor(n_estimators=100, max_depth=None, custom=False)\n",
    "SKLearn_Decision_Trees_Random_Forest_Regressor.fit(X_train, y_train)\n",
    "\n",
    "SKLearn_Decision_Trees_Random_Forest_Regressor_Prediction = SKLearn_Decision_Trees_Random_Forest_Regressor.predict(X_test)\n",
    "\n",
    "SKLearn_Decision_Trees_Random_Forest_Regressor_MAE = mean_absolute_error(y_test, SKLearn_Decision_Trees_Random_Forest_Regressor_Prediction)\n",
    "SKLearn_Decision_Trees_Random_Forest_Regressor_MSE = mean_squared_error(y_test, SKLearn_Decision_Trees_Random_Forest_Regressor_Prediction)\n",
    "\n",
    "print(f\"Custom Random Forest Regressor using SKLearn Decision Trees Mean Absolute Error: {SKLearn_Decision_Trees_Random_Forest_Regressor_MAE}\")\n",
    "print(f\"Custom Random Forest Regressor using SKLearn Decision Trees Mean Squared Error: {SKLearn_Decision_Trees_Random_Forest_Regressor_MSE}\")\n",
    "\n",
    "SKLearn_Decision_Trees_Random_Forest_Regressor_Results_DF = pd.DataFrame({'Actual': y_test, 'Predicted': SKLearn_Decision_Trees_Random_Forest_Regressor_Prediction})\n",
    "print(f\"\\nCustom Random Forest Regressor using SKLearn Decision Trees Predictions:\\n{SKLearn_Decision_Trees_Random_Forest_Regressor_Results_DF}\")"
   ]
  },
  {
   "cell_type": "markdown",
   "metadata": {},
   "source": [
    "# Custom Random Forest Regressor"
   ]
  },
  {
   "cell_type": "code",
   "execution_count": 11,
   "metadata": {
    "scrolled": false
   },
   "outputs": [
    {
     "name": "stdout",
     "output_type": "stream",
     "text": [
      "Custom Random Forest Regressor Mean Absolute Error: 0.01342030365922069\n",
      "Custom Random Forest Regressor Mean Squared Error: 0.0005364967934451953\n",
      "\n",
      "Custom Random Forest Regressor Predictions:\n",
      "       Actual  Predicted\n",
      "25   0.331167   0.332674\n",
      "91   0.244705   0.238875\n",
      "29   0.345026   0.356216\n",
      "132  0.209815   0.219975\n",
      "111  0.222412   0.226139\n",
      "57   0.687152   0.708387\n",
      "152  0.237668   0.248525\n",
      "10   0.333920   0.335184\n",
      "186  0.008192   0.010790\n",
      "118  0.188260   0.186035\n",
      "100  0.180819   0.185931\n",
      "179  0.002243   0.002964\n",
      "147  0.199997   0.217174\n",
      "28   0.340245   0.348003\n",
      "110  0.220062   0.239627\n",
      "153  0.254724   0.271072\n",
      "172  0.014773   0.016647\n",
      "183  0.004230   0.005244\n",
      "120  0.192624   0.191030\n",
      "35   0.589261   0.596983\n",
      "51   0.608144   0.610822\n",
      "81   0.196801   0.193985\n",
      "94   0.267079   0.276404\n",
      "75   0.273888   0.263171\n",
      "169  0.008958   0.008484\n",
      "159  0.397456   0.314122\n",
      "15   0.378399   0.355661\n",
      "79   0.325540   0.275057\n",
      "59   0.752918   0.812312\n",
      "142  0.365064   0.339967\n",
      "129  0.185560   0.190542\n",
      "32   0.585246   0.588093\n",
      "38   0.590779   0.611114\n",
      "190  0.029264   0.023521\n",
      "43   0.767355   0.831165\n",
      "170  0.009978   0.011865\n",
      "48   0.607096   0.602782\n",
      "0    0.337277   0.336723\n",
      "175  0.024187   0.026574\n"
     ]
    }
   ],
   "source": [
    "Custom_Random_Forest_Regressor = RandomForestRegressor(n_estimators=100, max_depth=100)\n",
    "Custom_Random_Forest_Regressor.fit(X_train, y_train)\n",
    "\n",
    "Custom_Random_Forest_Regressor_Prediction = Custom_Random_Forest_Regressor.predict(X_test)\n",
    "\n",
    "Custom_Random_Forest_Regressor_MAE = mean_absolute_error(y_test, Custom_Random_Forest_Regressor_Prediction)\n",
    "Custom_Random_Forest_Regressor_MSE = mean_squared_error(y_test, Custom_Random_Forest_Regressor_Prediction)\n",
    "\n",
    "print(f\"Custom Random Forest Regressor Mean Absolute Error: {Custom_Random_Forest_Regressor_MAE}\")\n",
    "print(f\"Custom Random Forest Regressor Mean Squared Error: {Custom_Random_Forest_Regressor_MSE}\")\n",
    "\n",
    "Custom_Random_Forest_Regressor_Results_DF = pd.DataFrame({'Actual': y_test, 'Predicted': Custom_Random_Forest_Regressor_Prediction})\n",
    "print(f\"\\nCustom Random Forest Regressor Predictions:\\n{Custom_Random_Forest_Regressor_Results_DF}\")"
   ]
  },
  {
   "cell_type": "markdown",
   "metadata": {},
   "source": [
    "# Custom Linear Regression"
   ]
  },
  {
   "cell_type": "code",
   "execution_count": 12,
   "metadata": {},
   "outputs": [],
   "source": [
    "# Normalisation of data \n",
    "\n",
    "X_train_normalized = (X_train - np.mean(X_train, axis=0)) / np.std(X_train, axis=0)\n",
    "X_test_normalized = (X_test - np.mean(X_train, axis=0)) / np.std(X_train, axis=0)"
   ]
  },
  {
   "cell_type": "code",
   "execution_count": 13,
   "metadata": {},
   "outputs": [
    {
     "name": "stdout",
     "output_type": "stream",
     "text": [
      "Custom Linear Regression Mean Absolute Error: 0.056078718428310546\n",
      "Custom Linear Regression Mean Squared Error: 0.004059016874168292\n",
      "\n",
      "Custom Linear Regression Predictions:\n",
      "       Actual  Predicted\n",
      "25   0.331167   0.374329\n",
      "91   0.244705   0.289954\n",
      "29   0.345026   0.413777\n",
      "132  0.209815   0.248640\n",
      "111  0.222412   0.281818\n",
      "57   0.687152   0.752435\n",
      "152  0.237668   0.288227\n",
      "10   0.333920   0.392354\n",
      "186  0.008192   0.090457\n",
      "118  0.188260   0.206585\n",
      "100  0.180819   0.198774\n",
      "179  0.002243   0.059506\n",
      "147  0.199997   0.247434\n",
      "28   0.340245   0.403794\n",
      "110  0.220062   0.272658\n",
      "153  0.254724   0.296223\n",
      "172  0.014773   0.094066\n",
      "183  0.004230   0.081948\n",
      "120  0.192624   0.220560\n",
      "35   0.589261   0.711462\n",
      "51   0.608144   0.704173\n",
      "81   0.196801   0.212137\n",
      "94   0.267079   0.315896\n",
      "75   0.273888   0.297043\n",
      "169  0.008958   0.084341\n",
      "159  0.397456   0.352852\n",
      "15   0.378399   0.443305\n",
      "79   0.325540   0.333490\n",
      "59   0.752918   0.767772\n",
      "142  0.365064   0.333629\n",
      "129  0.185560   0.226270\n",
      "32   0.585246   0.685303\n",
      "38   0.590779   0.736509\n",
      "190  0.029264   0.102468\n",
      "43   0.767355   0.773986\n",
      "170  0.009978   0.088679\n",
      "48   0.607096   0.687253\n",
      "0    0.337277   0.298851\n",
      "175  0.024187   0.107464\n"
     ]
    }
   ],
   "source": [
    "Custom_Linear_Regression = LogisticRegression(learning_rate=0.01, num_iterations=1000)\n",
    "Custom_Linear_Regression.fit(X_train_normalized, y_train)\n",
    "\n",
    "Custom_Linear_Regression_Prediction = Custom_Linear_Regression.predict(X_test_normalized)\n",
    "\n",
    "Custom_Linear_Regression_MAE = mean_absolute_error(y_test, Custom_Linear_Regression_Prediction)\n",
    "Custom_Linear_Regression_MSE = mean_squared_error(y_test, Custom_Linear_Regression_Prediction)\n",
    "\n",
    "print(f\"Custom Linear Regression Mean Absolute Error: {Custom_Linear_Regression_MAE}\")\n",
    "print(f\"Custom Linear Regression Mean Squared Error: {Custom_Linear_Regression_MSE}\")\n",
    "\n",
    "\n",
    "Custom_Linear_Regression_Results_DF = pd.DataFrame({'Actual': y_test, 'Predicted': Custom_Linear_Regression_Prediction})\n",
    "print(f\"\\nCustom Linear Regression Predictions:\\n{Custom_Linear_Regression_Results_DF}\")"
   ]
  }
 ],
 "metadata": {
  "kernelspec": {
   "display_name": "Python 3 (ipykernel)",
   "language": "python",
   "name": "python3"
  },
  "language_info": {
   "codemirror_mode": {
    "name": "ipython",
    "version": 3
   },
   "file_extension": ".py",
   "mimetype": "text/x-python",
   "name": "python",
   "nbconvert_exporter": "python",
   "pygments_lexer": "ipython3",
   "version": "3.12.0"
  }
 },
 "nbformat": 4,
 "nbformat_minor": 2
}
