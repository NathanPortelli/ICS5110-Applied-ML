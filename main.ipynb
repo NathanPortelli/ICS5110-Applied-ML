{
 "cells": [
  {
   "cell_type": "markdown",
   "metadata": {},
   "source": [
    "# Importing libraries and classes"
   ]
  },
  {
   "cell_type": "code",
   "execution_count": 117,
   "metadata": {},
   "outputs": [],
   "source": [
    "import pandas as pd\n",
    "import numpy as np\n",
    "import matplotlib.pyplot as plt\n",
    "\n",
    "from sklearn.model_selection import train_test_split\n",
    "from sklearn.metrics import mean_absolute_error, mean_squared_error\n",
    "from sklearn.metrics import r2_score\n",
    "from Utils import Utils\n",
    "\n",
    "from sklearn.ensemble import RandomForestRegressor as SKLearnRandomForestRegressor\n",
    "from sklearn.tree import DecisionTreeRegressor as SKLearnDecisionTreeRegressor\n",
    "\n",
    "from DecisionTreeRegressor import DecisionTreeRegressor\n",
    "from RandomForestRegressor import RandomForestRegressor\n",
    "from LinearRegression import LogisticRegression"
   ]
  },
  {
   "cell_type": "markdown",
   "metadata": {},
   "source": [
    "# Reading and splitting the data"
   ]
  },
  {
   "cell_type": "code",
   "execution_count": 118,
   "metadata": {},
   "outputs": [],
   "source": [
    "df = pd.read_csv('./NSO_Population_Sex_dataset/NSO_POPULATION_DATA_CLEANED.csv')\n",
    "\n",
    "feature_cols = ['District', 'Sex', 'Year', 'Population_Growth_Rate','Average_Population']\n",
    "X = pd.get_dummies(df[feature_cols], columns=['District', 'Sex'])\n",
    "y = df[\"Population\"]\n",
    "\n",
    "X_train, X_test, y_train, y_test = train_test_split(X, y, test_size=0.2)"
   ]
  },
  {
   "cell_type": "markdown",
   "metadata": {},
   "source": [
    "# SKLearn Decision Trees"
   ]
  },
  {
   "cell_type": "code",
   "execution_count": 119,
   "metadata": {},
   "outputs": [
    {
     "name": "stdout",
     "output_type": "stream",
     "text": [
      "SKLearn Decision Tree Regressor Mean Absolute Error: 0.025114187880266755\n",
      "SKLearn Decision Tree Regressor Mean Squared Error: 0.0013185341312366933\n",
      "SKLearn Decision Tree Regressor Root Mean Squared Error: 0.03631162529048643\n",
      "SKLearn Decision Tree Regressor R²: 0.9675530381950477\n",
      "\n",
      "SKLearn Decision Tree Predictions:\n",
      "       Actual  Predicted\n",
      "86   0.220988   0.229347\n",
      "9    0.330401   0.328685\n",
      "46   0.984932   0.884882\n",
      "127  0.212111   0.301852\n",
      "103  0.184513   0.193061\n",
      "98   0.175555   0.180244\n",
      "144  0.177261   0.180244\n",
      "91   0.244705   0.201818\n",
      "117  0.186688   0.186757\n",
      "32   0.585246   0.598597\n",
      "113  0.181330   0.186757\n",
      "161  0.005076   0.006549\n",
      "29   0.345026   0.363815\n",
      "88   0.230349   0.193061\n",
      "142  0.365064   0.349770\n",
      "104  0.186957   0.193061\n",
      "79   0.325540   0.301852\n",
      "110  0.220062   0.301852\n",
      "72   0.251796   0.246031\n",
      "28   0.340245   0.337003\n",
      "69   0.225675   0.180244\n",
      "111  0.222412   0.301852\n",
      "19   0.333571   0.334882\n",
      "77   0.302507   0.246031\n",
      "43   0.767355   0.716235\n",
      "78   0.324062   0.349770\n",
      "130  0.193162   0.199425\n",
      "85   0.215912   0.186757\n",
      "129  0.185560   0.199425\n",
      "74   0.267133   0.246031\n",
      "21   0.330979   0.328685\n",
      "61   0.842065   0.884882\n",
      "89   0.235533   0.246031\n",
      "66   0.205128   0.199425\n",
      "54   0.614832   0.625925\n",
      "35   0.589261   0.625925\n",
      "76   0.285545   0.246031\n",
      "73   0.259304   0.246031\n",
      "39   0.609447   0.625925\n"
     ]
    }
   ],
   "source": [
    "SKLearn_Decision_Tree_Regressor = SKLearnDecisionTreeRegressor(max_depth=100, min_samples_split=2, min_samples_leaf=5)\n",
    "\n",
    "SKLearn_Decision_Tree_Regressor.fit(X_train, y_train)\n",
    "\n",
    "SKLearn_Decision_Tree_Regressor_Prediction = SKLearn_Decision_Tree_Regressor.predict(X_test)\n",
    "\n",
    "SKLearn_Decision_Tree_Regressor_Prediction_MAE = mean_absolute_error(y_test, SKLearn_Decision_Tree_Regressor_Prediction)\n",
    "SKLearn_Decision_Tree_Regressor_Prediction_MSE = mean_squared_error(y_test, SKLearn_Decision_Tree_Regressor_Prediction)\n",
    "SKLearn_Decision_Tree_Regressor_Prediction_RMSE = Utils.root_mean_squared_error(y_test, SKLearn_Decision_Tree_Regressor_Prediction)\n",
    "SKLearn_Decision_Tree_Regressor_Prediction_R2 = r2_score(y_test, SKLearn_Decision_Tree_Regressor_Prediction)\n",
    "\n",
    "print(f\"SKLearn Decision Tree Regressor Mean Absolute Error: {SKLearn_Decision_Tree_Regressor_Prediction_MAE}\")\n",
    "print(f\"SKLearn Decision Tree Regressor Mean Squared Error: {SKLearn_Decision_Tree_Regressor_Prediction_MSE}\")\n",
    "print(f\"SKLearn Decision Tree Regressor Root Mean Squared Error: {SKLearn_Decision_Tree_Regressor_Prediction_RMSE}\")\n",
    "print(f\"SKLearn Decision Tree Regressor R\\u00b2: {SKLearn_Decision_Tree_Regressor_Prediction_R2}\")\n",
    "\n",
    "SKLearn_Decision_Tree_Regressor_Results_DF = pd.DataFrame({'Actual': y_test, 'Predicted': SKLearn_Decision_Tree_Regressor_Prediction})\n",
    "print(f\"\\nSKLearn Decision Tree Predictions:\\n{SKLearn_Decision_Tree_Regressor_Results_DF}\")"
   ]
  },
  {
   "cell_type": "markdown",
   "metadata": {},
   "source": [
    "# Custom Decision Trees"
   ]
  },
  {
   "cell_type": "code",
   "execution_count": 120,
   "metadata": {},
   "outputs": [
    {
     "name": "stdout",
     "output_type": "stream",
     "text": [
      "Custom Decision Tree Regressor Mean Absolute Error: 0.015427108804850164\n",
      "Custom Decision Tree Regressor Mean Squared Error: 0.0005094841403963741\n",
      "Custom Decision Tree Regressor Root Mean Squared Error: 0.02257175536807836\n",
      "Custom Decision Tree Regressor R²: 0.9874624311559042\n",
      "\n",
      "Custom Decision Tree Predictions:\n",
      "       Actual  Predicted\n",
      "86   0.220988   0.227354\n",
      "9    0.330401   0.327017\n",
      "46   0.984932   1.000000\n",
      "127  0.212111   0.268852\n",
      "103  0.184513   0.190878\n",
      "98   0.175555   0.178442\n",
      "144  0.177261   0.173218\n",
      "91   0.244705   0.200387\n",
      "117  0.186688   0.188260\n",
      "32   0.585246   0.584279\n",
      "113  0.181330   0.182445\n",
      "161  0.005076   0.005385\n",
      "29   0.345026   0.352574\n",
      "88   0.230349   0.196801\n",
      "142  0.365064   0.342824\n",
      "104  0.186957   0.189186\n",
      "79   0.325540   0.268852\n",
      "110  0.220062   0.210285\n",
      "72   0.251796   0.237668\n",
      "28   0.340245   0.344811\n",
      "69   0.225675   0.206309\n",
      "111  0.222412   0.268852\n",
      "19   0.333571   0.332201\n",
      "77   0.302507   0.342824\n",
      "43   0.767355   0.752918\n",
      "78   0.324062   0.342824\n",
      "130  0.193162   0.191228\n",
      "85   0.215912   0.196801\n",
      "129  0.185560   0.183734\n",
      "74   0.267133   0.273888\n",
      "21   0.330979   0.330133\n",
      "61   0.842065   0.890520\n",
      "89   0.235533   0.241455\n",
      "66   0.205128   0.191228\n",
      "54   0.614832   0.612186\n",
      "35   0.589261   0.591961\n",
      "76   0.285545   0.258901\n",
      "73   0.259304   0.273888\n",
      "39   0.609447   0.631230\n"
     ]
    }
   ],
   "source": [
    "Custom_Decision_Tree_Regressor = DecisionTreeRegressor(max_depth=100, min_samples_split=2)\n",
    "\n",
    "Custom_Decision_Tree_Regressor.fit(X_train.values, y_train.values)\n",
    "\n",
    "Custom_Decision_Tree_Regressor_Prediction = Custom_Decision_Tree_Regressor.predict(X_test.values)\n",
    "\n",
    "Custom_Decision_Tree_Regressor_Prediction_MAE = mean_absolute_error(y_test, Custom_Decision_Tree_Regressor_Prediction)\n",
    "Custom_Decision_Tree_Regressor_Prediction_MSE = mean_squared_error(y_test, Custom_Decision_Tree_Regressor_Prediction)\n",
    "Custom_Decision_Tree_Regressor_Prediction_RMSE = Utils.root_mean_squared_error(y_test, Custom_Decision_Tree_Regressor_Prediction)\n",
    "Custom_Decision_Tree_Regressor_Prediction_R2 = r2_score(y_test, Custom_Decision_Tree_Regressor_Prediction)\n",
    "\n",
    "print(f\"Custom Decision Tree Regressor Mean Absolute Error: {Custom_Decision_Tree_Regressor_Prediction_MAE}\")\n",
    "print(f\"Custom Decision Tree Regressor Mean Squared Error: {Custom_Decision_Tree_Regressor_Prediction_MSE}\")\n",
    "print(f\"Custom Decision Tree Regressor Root Mean Squared Error: {Custom_Decision_Tree_Regressor_Prediction_RMSE}\")\n",
    "print(f\"Custom Decision Tree Regressor R\\u00b2: {Custom_Decision_Tree_Regressor_Prediction_R2}\")\n",
    "\n",
    "Custom_Decision_Tree_Regressor_Results_DF = pd.DataFrame({'Actual': y_test, 'Predicted': Custom_Decision_Tree_Regressor_Prediction})\n",
    "print(f\"\\nCustom Decision Tree Predictions:\\n{Custom_Decision_Tree_Regressor_Results_DF}\")"
   ]
  },
  {
   "cell_type": "markdown",
   "metadata": {},
   "source": [
    "# Random Forest Regressor using SKLearn\n",
    "https://scikit-learn.org/stable/modules/generated/sklearn.ensemble.RandomForestRegressor.html"
   ]
  },
  {
   "cell_type": "code",
   "execution_count": 121,
   "metadata": {},
   "outputs": [
    {
     "name": "stdout",
     "output_type": "stream",
     "text": [
      "SKLearn Random Forest Regressor Mean Absolute Error: 0.015181762678035896\n",
      "SKLearn Random Forest Regressor Mean Squared Error: 0.0005327715091044081\n",
      "SKLearn Random Forest Regressor Root Mean Squared Error: 0.023081843711116493\n",
      "SKLearn Random Forest Regressor R²: 0.9675530381950477\n",
      "\n",
      "SKLearn Random Forest Predictions:\n",
      "       Actual  Predicted\n",
      "86   0.220988   0.226252\n",
      "9    0.330401   0.331116\n",
      "46   0.984932   0.899828\n",
      "127  0.212111   0.249279\n",
      "103  0.184513   0.187081\n",
      "98   0.175555   0.180296\n",
      "144  0.177261   0.202079\n",
      "91   0.244705   0.216354\n",
      "117  0.186688   0.184725\n",
      "32   0.585246   0.585466\n",
      "113  0.181330   0.183519\n",
      "161  0.005076   0.005051\n",
      "29   0.345026   0.350045\n",
      "88   0.230349   0.207159\n",
      "142  0.365064   0.339343\n",
      "104  0.186957   0.189913\n",
      "79   0.325540   0.271744\n",
      "110  0.220062   0.227764\n",
      "72   0.251796   0.238825\n",
      "28   0.340245   0.340356\n",
      "69   0.225675   0.206167\n",
      "111  0.222412   0.249591\n",
      "19   0.333571   0.332602\n",
      "77   0.302507   0.269191\n",
      "43   0.767355   0.742364\n",
      "78   0.324062   0.287045\n",
      "130  0.193162   0.196058\n",
      "85   0.215912   0.201850\n",
      "129  0.185560   0.191515\n",
      "74   0.267133   0.250835\n",
      "21   0.330979   0.330941\n",
      "61   0.842065   0.860802\n",
      "89   0.235533   0.232435\n",
      "66   0.205128   0.202442\n",
      "54   0.614832   0.612729\n",
      "35   0.589261   0.588153\n",
      "76   0.285545   0.258493\n",
      "73   0.259304   0.246433\n",
      "39   0.609447   0.627060\n"
     ]
    }
   ],
   "source": [
    "SKLearn_Random_Forest_Regressor = SKLearnRandomForestRegressor()\n",
    "SKLearn_Random_Forest_Regressor.fit(X_train, y_train)\n",
    "\n",
    "SKLearn_Random_Forest_Regressor_Prediction = SKLearn_Random_Forest_Regressor.predict(X_test)\n",
    "\n",
    "SKLearn_Random_Forest_Regressor_Prediction_MAE = mean_absolute_error(y_test, SKLearn_Random_Forest_Regressor_Prediction)\n",
    "SKLearn_Random_Forest_Regressor_Prediction_MSE = mean_squared_error(y_test, SKLearn_Random_Forest_Regressor_Prediction)\n",
    "SKLearn_Random_Forest_Regressor_Prediction_RMSE = Utils.root_mean_squared_error(y_test, SKLearn_Random_Forest_Regressor_Prediction)\n",
    "SKLearn_Random_Forest_Regressor_Prediction_R2 = r2_score(y_test, SKLearn_Random_Forest_Regressor_Prediction)\n",
    "\n",
    "print(f\"SKLearn Random Forest Regressor Mean Absolute Error: {SKLearn_Random_Forest_Regressor_Prediction_MAE}\")\n",
    "print(f\"SKLearn Random Forest Regressor Mean Squared Error: {SKLearn_Random_Forest_Regressor_Prediction_MSE}\")\n",
    "print(f\"SKLearn Random Forest Regressor Root Mean Squared Error: {SKLearn_Random_Forest_Regressor_Prediction_RMSE}\")\n",
    "print(f\"SKLearn Random Forest Regressor R\\u00b2: {SKLearn_Decision_Tree_Regressor_Prediction_R2}\")\n",
    "\n",
    "SKLearn_Random_Forest_Regressor_Results_DF = pd.DataFrame({'Actual': y_test, 'Predicted': SKLearn_Random_Forest_Regressor_Prediction})\n",
    "print(f\"\\nSKLearn Random Forest Predictions:\\n{SKLearn_Random_Forest_Regressor_Results_DF}\")\n"
   ]
  },
  {
   "cell_type": "markdown",
   "metadata": {},
   "source": [
    "# Custom Random Forest Regressor using SKLearn Decision Trees"
   ]
  },
  {
   "cell_type": "code",
   "execution_count": 122,
   "metadata": {},
   "outputs": [
    {
     "name": "stdout",
     "output_type": "stream",
     "text": [
      "Custom Random Forest Regressor using SKLearn Decision Trees Mean Absolute Error: 0.01618789598685115\n",
      "Custom Random Forest Regressor using SKLearn Decision Trees Mean Squared Error: 0.0006119948723423189\n",
      "Custom Random Forest Regressor using SKLearn Decision Trees Root Mean Squared Error: 0.024738530116850493\n",
      "Custom Random Forest Regressor using SKLearn Decision Trees R²: 0.9849398102200866\n",
      "\n",
      "Custom Random Forest Regressor using SKLearn Decision Trees Predictions:\n",
      "       Actual  Predicted\n",
      "86   0.220988   0.223561\n",
      "9    0.330401   0.331288\n",
      "46   0.984932   0.892843\n",
      "127  0.212111   0.265590\n",
      "103  0.184513   0.186884\n",
      "98   0.175555   0.179858\n",
      "144  0.177261   0.208582\n",
      "91   0.244705   0.214598\n",
      "117  0.186688   0.184538\n",
      "32   0.585246   0.585637\n",
      "113  0.181330   0.191524\n",
      "161  0.005076   0.005345\n",
      "29   0.345026   0.351094\n",
      "88   0.230349   0.204595\n",
      "142  0.365064   0.346071\n",
      "104  0.186957   0.189795\n",
      "79   0.325540   0.279918\n",
      "110  0.220062   0.227107\n",
      "72   0.251796   0.237409\n",
      "28   0.340245   0.340559\n",
      "69   0.225675   0.206749\n",
      "111  0.222412   0.266642\n",
      "19   0.333571   0.332550\n",
      "77   0.302507   0.277347\n",
      "43   0.767355   0.738815\n",
      "78   0.324062   0.297254\n",
      "130  0.193162   0.195252\n",
      "85   0.215912   0.201142\n",
      "129  0.185560   0.189298\n",
      "74   0.267133   0.249681\n",
      "21   0.330979   0.330739\n",
      "61   0.842065   0.870339\n",
      "89   0.235533   0.232687\n",
      "66   0.205128   0.202462\n",
      "54   0.614832   0.611427\n",
      "35   0.589261   0.588151\n",
      "76   0.285545   0.258953\n",
      "73   0.259304   0.245737\n",
      "39   0.609447   0.628188\n"
     ]
    }
   ],
   "source": [
    "SKLearn_Decision_Trees_Random_Forest_Regressor = RandomForestRegressor(n_estimators=100, max_depth=None, custom=False)\n",
    "SKLearn_Decision_Trees_Random_Forest_Regressor.fit(X_train, y_train)\n",
    "\n",
    "SKLearn_Decision_Trees_Random_Forest_Regressor_Prediction = SKLearn_Decision_Trees_Random_Forest_Regressor.predict(X_test)\n",
    "\n",
    "SKLearn_Decision_Trees_Random_Forest_Regressor_MAE = mean_absolute_error(y_test, SKLearn_Decision_Trees_Random_Forest_Regressor_Prediction)\n",
    "SKLearn_Decision_Trees_Random_Forest_Regressor_MSE = mean_squared_error(y_test, SKLearn_Decision_Trees_Random_Forest_Regressor_Prediction)\n",
    "SKLearn_Decision_Trees_Random_Forest_Regressor_RMSE = Utils.root_mean_squared_error(y_test, SKLearn_Decision_Trees_Random_Forest_Regressor_Prediction)\n",
    "SKLearn_Decision_Trees_Random_Forest_Regressor_R2 = r2_score(y_test, SKLearn_Decision_Trees_Random_Forest_Regressor_Prediction)\n",
    "\n",
    "print(f\"Custom Random Forest Regressor using SKLearn Decision Trees Mean Absolute Error: {SKLearn_Decision_Trees_Random_Forest_Regressor_MAE}\")\n",
    "print(f\"Custom Random Forest Regressor using SKLearn Decision Trees Mean Squared Error: {SKLearn_Decision_Trees_Random_Forest_Regressor_MSE}\")\n",
    "print(f\"Custom Random Forest Regressor using SKLearn Decision Trees Root Mean Squared Error: {SKLearn_Decision_Trees_Random_Forest_Regressor_RMSE}\")\n",
    "print(f\"Custom Random Forest Regressor using SKLearn Decision Trees R\\u00b2: {SKLearn_Decision_Trees_Random_Forest_Regressor_R2}\")\n",
    "\n",
    "SKLearn_Decision_Trees_Random_Forest_Regressor_Results_DF = pd.DataFrame({'Actual': y_test, 'Predicted': SKLearn_Decision_Trees_Random_Forest_Regressor_Prediction})\n",
    "print(f\"\\nCustom Random Forest Regressor using SKLearn Decision Trees Predictions:\\n{SKLearn_Decision_Trees_Random_Forest_Regressor_Results_DF}\")"
   ]
  },
  {
   "cell_type": "markdown",
   "metadata": {},
   "source": [
    "# Custom Random Forest Regressor"
   ]
  },
  {
   "cell_type": "code",
   "execution_count": 123,
   "metadata": {
    "scrolled": false
   },
   "outputs": [
    {
     "name": "stdout",
     "output_type": "stream",
     "text": [
      "Custom Random Forest Regressor Mean Absolute Error: 0.013691831104839246\n",
      "Custom Random Forest Regressor Mean Squared Error: 0.00041741295865391784\n",
      "Custom Random Forest Regressor Root Mean Squared Error: 0.020430686690709098\n",
      "Custom Random Forest Regressor R²: 0.9897281518881633\n",
      "\n",
      "Custom Random Forest Regressor Predictions:\n",
      "       Actual  Predicted\n",
      "86   0.220988   0.229646\n",
      "9    0.330401   0.323640\n",
      "46   0.984932   0.938542\n",
      "127  0.212111   0.241012\n",
      "103  0.184513   0.189689\n",
      "98   0.175555   0.180498\n",
      "144  0.177261   0.198284\n",
      "91   0.244705   0.218984\n",
      "117  0.186688   0.186714\n",
      "32   0.585246   0.586816\n",
      "113  0.181330   0.181899\n",
      "161  0.005076   0.005265\n",
      "29   0.345026   0.355300\n",
      "88   0.230349   0.215013\n",
      "142  0.365064   0.364581\n",
      "104  0.186957   0.190404\n",
      "79   0.325540   0.266946\n",
      "110  0.220062   0.235544\n",
      "72   0.251796   0.239604\n",
      "28   0.340245   0.345841\n",
      "69   0.225675   0.214361\n",
      "111  0.222412   0.241567\n",
      "19   0.333571   0.332071\n",
      "77   0.302507   0.289406\n",
      "43   0.767355   0.777552\n",
      "78   0.324062   0.301323\n",
      "130  0.193162   0.194688\n",
      "85   0.215912   0.206150\n",
      "129  0.185560   0.189272\n",
      "74   0.267133   0.249252\n",
      "21   0.330979   0.329598\n",
      "61   0.842065   0.905541\n",
      "89   0.235533   0.236415\n",
      "66   0.205128   0.201282\n",
      "54   0.614832   0.623319\n",
      "35   0.589261   0.592299\n",
      "76   0.285545   0.249810\n",
      "73   0.259304   0.247856\n",
      "39   0.609447   0.632915\n"
     ]
    }
   ],
   "source": [
    "Custom_Random_Forest_Regressor = RandomForestRegressor(n_estimators=100, max_depth=100)\n",
    "Custom_Random_Forest_Regressor.fit(X_train, y_train)\n",
    "\n",
    "Custom_Random_Forest_Regressor_Prediction = Custom_Random_Forest_Regressor.predict(X_test)\n",
    "\n",
    "Custom_Random_Forest_Regressor_MAE = mean_absolute_error(y_test, Custom_Random_Forest_Regressor_Prediction)\n",
    "Custom_Random_Forest_Regressor_MSE = mean_squared_error(y_test, Custom_Random_Forest_Regressor_Prediction)\n",
    "Custom_Random_Forest_Regressor_RMSE = Utils.root_mean_squared_error(y_test, Custom_Random_Forest_Regressor_Prediction)\n",
    "Custom_Random_Forest_Regressor_R2 = r2_score(y_test, Custom_Random_Forest_Regressor_Prediction)\n",
    "\n",
    "print(f\"Custom Random Forest Regressor Mean Absolute Error: {Custom_Random_Forest_Regressor_MAE}\")\n",
    "print(f\"Custom Random Forest Regressor Mean Squared Error: {Custom_Random_Forest_Regressor_MSE}\")\n",
    "print(f\"Custom Random Forest Regressor Root Mean Squared Error: {Custom_Random_Forest_Regressor_RMSE}\")\n",
    "print(f\"Custom Random Forest Regressor R\\u00b2: {Custom_Random_Forest_Regressor_R2}\")\n",
    "\n",
    "Custom_Random_Forest_Regressor_Results_DF = pd.DataFrame({'Actual': y_test, 'Predicted': Custom_Random_Forest_Regressor_Prediction})\n",
    "print(f\"\\nCustom Random Forest Regressor Predictions:\\n{Custom_Random_Forest_Regressor_Results_DF}\")"
   ]
  },
  {
   "cell_type": "markdown",
   "metadata": {},
   "source": [
    "# Custom Linear Regression"
   ]
  },
  {
   "cell_type": "code",
   "execution_count": 124,
   "metadata": {},
   "outputs": [],
   "source": [
    "# Normalisation of data \n",
    "\n",
    "X_train_normalized = (X_train - np.mean(X_train, axis=0)) / np.std(X_train, axis=0)\n",
    "X_test_normalized = (X_test - np.mean(X_train, axis=0)) / np.std(X_train, axis=0)"
   ]
  },
  {
   "cell_type": "code",
   "execution_count": 125,
   "metadata": {},
   "outputs": [
    {
     "name": "stdout",
     "output_type": "stream",
     "text": [
      "Custom Linear Regression Mean Absolute Error: 0.044165295634940614\n",
      "Custom Linear Regression Mean Squared Error: 0.003604693048038606\n",
      "Custom Linear Regression Root Mean Squared Error: 0.060039095996180736\n",
      "Custom Linear Regression R²: 0.9112944178861839\n",
      "\n",
      "Custom Linear Regression Predictions:\n",
      "       Actual  Predicted\n",
      "86   0.220988   0.247870\n",
      "9    0.330401   0.378963\n",
      "46   0.984932   0.774248\n",
      "127  0.212111   0.268273\n",
      "103  0.184513   0.220430\n",
      "98   0.175555   0.191553\n",
      "144  0.177261   0.250833\n",
      "91   0.244705   0.282645\n",
      "117  0.186688   0.204553\n",
      "32   0.585246   0.679262\n",
      "113  0.181330   0.182642\n",
      "161  0.005076   0.066694\n",
      "29   0.345026   0.406662\n",
      "88   0.230349   0.261431\n",
      "142  0.365064   0.330178\n",
      "104  0.186957   0.226553\n",
      "79   0.325540   0.317984\n",
      "110  0.220062   0.265006\n",
      "72   0.251796   0.265641\n",
      "28   0.340245   0.398249\n",
      "69   0.225675   0.246044\n",
      "111  0.222412   0.272996\n",
      "19   0.333571   0.325278\n",
      "77   0.302507   0.301138\n",
      "43   0.767355   0.756408\n",
      "78   0.324062   0.308280\n",
      "130  0.193162   0.244327\n",
      "85   0.215912   0.241440\n",
      "129  0.185560   0.238108\n",
      "74   0.267133   0.280105\n",
      "21   0.330979   0.341138\n",
      "61   0.842065   0.764517\n",
      "89   0.235533   0.268242\n",
      "66   0.205128   0.226526\n",
      "54   0.614832   0.718503\n",
      "35   0.589261   0.701772\n",
      "76   0.285545   0.294242\n",
      "73   0.259304   0.273027\n",
      "39   0.609447   0.729842\n"
     ]
    }
   ],
   "source": [
    "Custom_Linear_Regression = LogisticRegression(learning_rate=0.01, num_iterations=1000)\n",
    "Custom_Linear_Regression.fit(X_train_normalized, y_train)\n",
    "\n",
    "Custom_Linear_Regression_Prediction = Custom_Linear_Regression.predict(X_test_normalized)\n",
    "\n",
    "Custom_Linear_Regression_MAE = mean_absolute_error(y_test, Custom_Linear_Regression_Prediction)\n",
    "Custom_Linear_Regression_MSE = mean_squared_error(y_test, Custom_Linear_Regression_Prediction)\n",
    "Custom_Linear_Regression_RMSE = Utils.root_mean_squared_error(y_test, Custom_Linear_Regression_Prediction)\n",
    "Custom_Linear_Regression_R2 = r2_score(y_test, Custom_Linear_Regression_Prediction)\n",
    "\n",
    "print(f\"Custom Linear Regression Mean Absolute Error: {Custom_Linear_Regression_MAE}\")\n",
    "print(f\"Custom Linear Regression Mean Squared Error: {Custom_Linear_Regression_MSE}\")\n",
    "print(f\"Custom Linear Regression Root Mean Squared Error: {Custom_Linear_Regression_RMSE}\")\n",
    "print(f\"Custom Linear Regression R\\u00b2: {Custom_Linear_Regression_R2}\")\n",
    "\n",
    "\n",
    "Custom_Linear_Regression_Results_DF = pd.DataFrame({'Actual': y_test, 'Predicted': Custom_Linear_Regression_Prediction})\n",
    "print(f\"\\nCustom Linear Regression Predictions:\\n{Custom_Linear_Regression_Results_DF}\")"
   ]
  },
  {
   "cell_type": "code",
   "execution_count": 126,
   "metadata": {},
   "outputs": [
    {
     "data": {
      "image/png": "[encoded data removed]",
      "text/plain": [
       "<Figure size 432x288 with 1 Axes>"
      ]
     },
     "metadata": {
      "needs_background": "light"
     },
     "output_type": "display_data"
    }
   ],
   "source": [
    "plt.scatter(y_test, Custom_Decision_Tree_Regressor_Prediction)\n",
    "plt.scatter(y_test, Custom_Random_Forest_Regressor_Prediction)\n",
    "plt.scatter(y_test, Custom_Linear_Regression_Prediction)\n",
    "plt.xlabel('Actual Values')\n",
    "plt.ylabel('Predicted Values')\n",
    "plt.title('Actual vs Predicted Values')\n",
    "plt.legend(['Custom Decision Tree', 'Custom Random Forest', 'Custom Linear Regression'])\n",
    "plt.show()"
   ]
  },
  {
   "cell_type": "code",
   "execution_count": 127,
   "metadata": {},
   "outputs": [
    {
     "data": {
      "image/png": "[encoded data removed]",
      "text/plain": [
       "<Figure size 432x288 with 1 Axes>"
      ]
     },
     "metadata": {
      "needs_background": "light"
     },
     "output_type": "display_data"
    }
   ],
   "source": [
    "plt.plot(Custom_Decision_Tree_Regressor_Prediction, label='Decision Tree')\n",
    "plt.plot(Custom_Random_Forest_Regressor_Prediction, label='Random Forest')\n",
    "plt.plot(Custom_Linear_Regression_Prediction, label='Linear Regression')\n",
    "plt.xlabel('Observation')\n",
    "plt.ylabel('Values')\n",
    "plt.title('Actual vs Predicted Line Plot')\n",
    "plt.legend(loc='upper left')\n",
    "plt.show()"
   ]
  },
  {
   "cell_type": "code",
   "execution_count": 128,
   "metadata": {},
   "outputs": [
    {
     "data": {
      "image/png": "[encoded data removed]",
      "text/plain": [
       "<Figure size 1080x360 with 3 Axes>"
      ]
     },
     "metadata": {
      "needs_background": "light"
     },
     "output_type": "display_data"
    }
   ],
   "source": [
    "custom_decision_tree_residuals = y_test - Custom_Decision_Tree_Regressor_Prediction\n",
    "custom_random_forest_residuals = y_test - Custom_Random_Forest_Regressor_Prediction\n",
    "custom_linear_regression_residuals = y_test - Custom_Linear_Regression_Prediction\n",
    "\n",
    "fig, axes = plt.subplots(nrows=1, ncols=3, figsize=(15, 5))\n",
    "\n",
    "axes[0].scatter(y_test, custom_decision_tree_residuals)\n",
    "axes[0].axhline(y=0, color='r', linestyle='-')\n",
    "axes[0].set_title('Custom Decision Tree Residuals')\n",
    "\n",
    "axes[1].scatter(y_test, custom_random_forest_residuals)\n",
    "axes[1].axhline(y=0, color='r', linestyle='-')\n",
    "axes[1].set_title('Custom Random Forest Residuals')\n",
    "\n",
    "axes[2].scatter(y_test, custom_linear_regression_residuals)\n",
    "axes[2].axhline(y=0, color='r', linestyle='-')\n",
    "axes[2].set_title('Custom Linear Regression Residuals')\n",
    "\n",
    "plt.tight_layout()\n",
    "plt.show()"
   ]
  }
 ],
 "metadata": {
  "kernelspec": {
   "display_name": "Python 3 (ipykernel)",
   "language": "python",
   "name": "python3"
  },
  "language_info": {
   "codemirror_mode": {
    "name": "ipython",
    "version": 3
   },
   "file_extension": ".py",
   "mimetype": "text/x-python",
   "name": "python",
   "nbconvert_exporter": "python",
   "pygments_lexer": "ipython3",
   "version": "3.12.0"
  }
 },
 "nbformat": 4,
 "nbformat_minor": 2
}
